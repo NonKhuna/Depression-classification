{
  "nbformat": 4,
  "nbformat_minor": 0,
  "metadata": {
    "colab": {
      "provenance": [],
      "collapsed_sections": [
        "Yi2cl279T2mb",
        "UoG1MY3BUEDm",
        "K-wSz2EIULPn"
      ],
      "toc_visible": true,
      "authorship_tag": "ABX9TyNtBZjdnXZQwz+2bPLiByxc",
      "include_colab_link": true
    },
    "kernelspec": {
      "name": "python3",
      "display_name": "Python 3"
    },
    "language_info": {
      "name": "python"
    },
    "accelerator": "GPU",
    "gpuClass": "standard",
    "widgets": {
      "application/vnd.jupyter.widget-state+json": {
        "e0954a6d3859443bad00434f99cb8e66": {
          "model_module": "@jupyter-widgets/controls",
          "model_name": "HBoxModel",
          "model_module_version": "1.5.0",
          "state": {
            "_dom_classes": [],
            "_model_module": "@jupyter-widgets/controls",
            "_model_module_version": "1.5.0",
            "_model_name": "HBoxModel",
            "_view_count": null,
            "_view_module": "@jupyter-widgets/controls",
            "_view_module_version": "1.5.0",
            "_view_name": "HBoxView",
            "box_style": "",
            "children": [
              "IPY_MODEL_45b9072a6e484235ac3703a664d55fa6",
              "IPY_MODEL_e55f9e5ee84d40c9bc484ee18a1d3210",
              "IPY_MODEL_ae64a9f266e44736999697fadf685745"
            ],
            "layout": "IPY_MODEL_3d022df7ed0d4cd8ab0faa6be1b63e6a"
          }
        },
        "45b9072a6e484235ac3703a664d55fa6": {
          "model_module": "@jupyter-widgets/controls",
          "model_name": "HTMLModel",
          "model_module_version": "1.5.0",
          "state": {
            "_dom_classes": [],
            "_model_module": "@jupyter-widgets/controls",
            "_model_module_version": "1.5.0",
            "_model_name": "HTMLModel",
            "_view_count": null,
            "_view_module": "@jupyter-widgets/controls",
            "_view_module_version": "1.5.0",
            "_view_name": "HTMLView",
            "description": "",
            "description_tooltip": null,
            "layout": "IPY_MODEL_d0b0b46f81f0447a843288693623a78f",
            "placeholder": "​",
            "style": "IPY_MODEL_450b93113a0c4dfeaa2bedc9a8f4e4c4",
            "value": "100%"
          }
        },
        "e55f9e5ee84d40c9bc484ee18a1d3210": {
          "model_module": "@jupyter-widgets/controls",
          "model_name": "FloatProgressModel",
          "model_module_version": "1.5.0",
          "state": {
            "_dom_classes": [],
            "_model_module": "@jupyter-widgets/controls",
            "_model_module_version": "1.5.0",
            "_model_name": "FloatProgressModel",
            "_view_count": null,
            "_view_module": "@jupyter-widgets/controls",
            "_view_module_version": "1.5.0",
            "_view_name": "ProgressView",
            "bar_style": "success",
            "description": "",
            "description_tooltip": null,
            "layout": "IPY_MODEL_c2f8105a1e01403683dca780aaa80132",
            "max": 1,
            "min": 0,
            "orientation": "horizontal",
            "style": "IPY_MODEL_9a5e295cfb7f4fa594177222ec1bf505",
            "value": 1
          }
        },
        "ae64a9f266e44736999697fadf685745": {
          "model_module": "@jupyter-widgets/controls",
          "model_name": "HTMLModel",
          "model_module_version": "1.5.0",
          "state": {
            "_dom_classes": [],
            "_model_module": "@jupyter-widgets/controls",
            "_model_module_version": "1.5.0",
            "_model_name": "HTMLModel",
            "_view_count": null,
            "_view_module": "@jupyter-widgets/controls",
            "_view_module_version": "1.5.0",
            "_view_name": "HTMLView",
            "description": "",
            "description_tooltip": null,
            "layout": "IPY_MODEL_37de8af6e69d4c9ca63610fd0375d4e4",
            "placeholder": "​",
            "style": "IPY_MODEL_a51241b63ae5450b8f879024b9ede090",
            "value": " 1/1 [00:00&lt;00:00,  3.08ba/s]"
          }
        },
        "3d022df7ed0d4cd8ab0faa6be1b63e6a": {
          "model_module": "@jupyter-widgets/base",
          "model_name": "LayoutModel",
          "model_module_version": "1.2.0",
          "state": {
            "_model_module": "@jupyter-widgets/base",
            "_model_module_version": "1.2.0",
            "_model_name": "LayoutModel",
            "_view_count": null,
            "_view_module": "@jupyter-widgets/base",
            "_view_module_version": "1.2.0",
            "_view_name": "LayoutView",
            "align_content": null,
            "align_items": null,
            "align_self": null,
            "border": null,
            "bottom": null,
            "display": null,
            "flex": null,
            "flex_flow": null,
            "grid_area": null,
            "grid_auto_columns": null,
            "grid_auto_flow": null,
            "grid_auto_rows": null,
            "grid_column": null,
            "grid_gap": null,
            "grid_row": null,
            "grid_template_areas": null,
            "grid_template_columns": null,
            "grid_template_rows": null,
            "height": null,
            "justify_content": null,
            "justify_items": null,
            "left": null,
            "margin": null,
            "max_height": null,
            "max_width": null,
            "min_height": null,
            "min_width": null,
            "object_fit": null,
            "object_position": null,
            "order": null,
            "overflow": null,
            "overflow_x": null,
            "overflow_y": null,
            "padding": null,
            "right": null,
            "top": null,
            "visibility": null,
            "width": null
          }
        },
        "d0b0b46f81f0447a843288693623a78f": {
          "model_module": "@jupyter-widgets/base",
          "model_name": "LayoutModel",
          "model_module_version": "1.2.0",
          "state": {
            "_model_module": "@jupyter-widgets/base",
            "_model_module_version": "1.2.0",
            "_model_name": "LayoutModel",
            "_view_count": null,
            "_view_module": "@jupyter-widgets/base",
            "_view_module_version": "1.2.0",
            "_view_name": "LayoutView",
            "align_content": null,
            "align_items": null,
            "align_self": null,
            "border": null,
            "bottom": null,
            "display": null,
            "flex": null,
            "flex_flow": null,
            "grid_area": null,
            "grid_auto_columns": null,
            "grid_auto_flow": null,
            "grid_auto_rows": null,
            "grid_column": null,
            "grid_gap": null,
            "grid_row": null,
            "grid_template_areas": null,
            "grid_template_columns": null,
            "grid_template_rows": null,
            "height": null,
            "justify_content": null,
            "justify_items": null,
            "left": null,
            "margin": null,
            "max_height": null,
            "max_width": null,
            "min_height": null,
            "min_width": null,
            "object_fit": null,
            "object_position": null,
            "order": null,
            "overflow": null,
            "overflow_x": null,
            "overflow_y": null,
            "padding": null,
            "right": null,
            "top": null,
            "visibility": null,
            "width": null
          }
        },
        "450b93113a0c4dfeaa2bedc9a8f4e4c4": {
          "model_module": "@jupyter-widgets/controls",
          "model_name": "DescriptionStyleModel",
          "model_module_version": "1.5.0",
          "state": {
            "_model_module": "@jupyter-widgets/controls",
            "_model_module_version": "1.5.0",
            "_model_name": "DescriptionStyleModel",
            "_view_count": null,
            "_view_module": "@jupyter-widgets/base",
            "_view_module_version": "1.2.0",
            "_view_name": "StyleView",
            "description_width": ""
          }
        },
        "c2f8105a1e01403683dca780aaa80132": {
          "model_module": "@jupyter-widgets/base",
          "model_name": "LayoutModel",
          "model_module_version": "1.2.0",
          "state": {
            "_model_module": "@jupyter-widgets/base",
            "_model_module_version": "1.2.0",
            "_model_name": "LayoutModel",
            "_view_count": null,
            "_view_module": "@jupyter-widgets/base",
            "_view_module_version": "1.2.0",
            "_view_name": "LayoutView",
            "align_content": null,
            "align_items": null,
            "align_self": null,
            "border": null,
            "bottom": null,
            "display": null,
            "flex": null,
            "flex_flow": null,
            "grid_area": null,
            "grid_auto_columns": null,
            "grid_auto_flow": null,
            "grid_auto_rows": null,
            "grid_column": null,
            "grid_gap": null,
            "grid_row": null,
            "grid_template_areas": null,
            "grid_template_columns": null,
            "grid_template_rows": null,
            "height": null,
            "justify_content": null,
            "justify_items": null,
            "left": null,
            "margin": null,
            "max_height": null,
            "max_width": null,
            "min_height": null,
            "min_width": null,
            "object_fit": null,
            "object_position": null,
            "order": null,
            "overflow": null,
            "overflow_x": null,
            "overflow_y": null,
            "padding": null,
            "right": null,
            "top": null,
            "visibility": null,
            "width": null
          }
        },
        "9a5e295cfb7f4fa594177222ec1bf505": {
          "model_module": "@jupyter-widgets/controls",
          "model_name": "ProgressStyleModel",
          "model_module_version": "1.5.0",
          "state": {
            "_model_module": "@jupyter-widgets/controls",
            "_model_module_version": "1.5.0",
            "_model_name": "ProgressStyleModel",
            "_view_count": null,
            "_view_module": "@jupyter-widgets/base",
            "_view_module_version": "1.2.0",
            "_view_name": "StyleView",
            "bar_color": null,
            "description_width": ""
          }
        },
        "37de8af6e69d4c9ca63610fd0375d4e4": {
          "model_module": "@jupyter-widgets/base",
          "model_name": "LayoutModel",
          "model_module_version": "1.2.0",
          "state": {
            "_model_module": "@jupyter-widgets/base",
            "_model_module_version": "1.2.0",
            "_model_name": "LayoutModel",
            "_view_count": null,
            "_view_module": "@jupyter-widgets/base",
            "_view_module_version": "1.2.0",
            "_view_name": "LayoutView",
            "align_content": null,
            "align_items": null,
            "align_self": null,
            "border": null,
            "bottom": null,
            "display": null,
            "flex": null,
            "flex_flow": null,
            "grid_area": null,
            "grid_auto_columns": null,
            "grid_auto_flow": null,
            "grid_auto_rows": null,
            "grid_column": null,
            "grid_gap": null,
            "grid_row": null,
            "grid_template_areas": null,
            "grid_template_columns": null,
            "grid_template_rows": null,
            "height": null,
            "justify_content": null,
            "justify_items": null,
            "left": null,
            "margin": null,
            "max_height": null,
            "max_width": null,
            "min_height": null,
            "min_width": null,
            "object_fit": null,
            "object_position": null,
            "order": null,
            "overflow": null,
            "overflow_x": null,
            "overflow_y": null,
            "padding": null,
            "right": null,
            "top": null,
            "visibility": null,
            "width": null
          }
        },
        "a51241b63ae5450b8f879024b9ede090": {
          "model_module": "@jupyter-widgets/controls",
          "model_name": "DescriptionStyleModel",
          "model_module_version": "1.5.0",
          "state": {
            "_model_module": "@jupyter-widgets/controls",
            "_model_module_version": "1.5.0",
            "_model_name": "DescriptionStyleModel",
            "_view_count": null,
            "_view_module": "@jupyter-widgets/base",
            "_view_module_version": "1.2.0",
            "_view_name": "StyleView",
            "description_width": ""
          }
        },
        "eaba9146fe8242b58297e1cf25c5568e": {
          "model_module": "@jupyter-widgets/controls",
          "model_name": "HBoxModel",
          "model_module_version": "1.5.0",
          "state": {
            "_dom_classes": [],
            "_model_module": "@jupyter-widgets/controls",
            "_model_module_version": "1.5.0",
            "_model_name": "HBoxModel",
            "_view_count": null,
            "_view_module": "@jupyter-widgets/controls",
            "_view_module_version": "1.5.0",
            "_view_name": "HBoxView",
            "box_style": "",
            "children": [
              "IPY_MODEL_1406d3ab21914443b0944299592c8dc9",
              "IPY_MODEL_24031341b2cf4d7a8d4fd89b97986467",
              "IPY_MODEL_3c01970fde7d4bdb88564e1a224b5ab3"
            ],
            "layout": "IPY_MODEL_bf790f999bd24a2fbf2f64867c059612"
          }
        },
        "1406d3ab21914443b0944299592c8dc9": {
          "model_module": "@jupyter-widgets/controls",
          "model_name": "HTMLModel",
          "model_module_version": "1.5.0",
          "state": {
            "_dom_classes": [],
            "_model_module": "@jupyter-widgets/controls",
            "_model_module_version": "1.5.0",
            "_model_name": "HTMLModel",
            "_view_count": null,
            "_view_module": "@jupyter-widgets/controls",
            "_view_module_version": "1.5.0",
            "_view_name": "HTMLView",
            "description": "",
            "description_tooltip": null,
            "layout": "IPY_MODEL_1d2373f645c54896b76f71c94e0ebe0b",
            "placeholder": "​",
            "style": "IPY_MODEL_aca05f5bb9f84fdb88a95b8e2f286bd2",
            "value": "100%"
          }
        },
        "24031341b2cf4d7a8d4fd89b97986467": {
          "model_module": "@jupyter-widgets/controls",
          "model_name": "FloatProgressModel",
          "model_module_version": "1.5.0",
          "state": {
            "_dom_classes": [],
            "_model_module": "@jupyter-widgets/controls",
            "_model_module_version": "1.5.0",
            "_model_name": "FloatProgressModel",
            "_view_count": null,
            "_view_module": "@jupyter-widgets/controls",
            "_view_module_version": "1.5.0",
            "_view_name": "ProgressView",
            "bar_style": "success",
            "description": "",
            "description_tooltip": null,
            "layout": "IPY_MODEL_cf1f5a3dcd29421bb5e4102d11f5e1fd",
            "max": 1,
            "min": 0,
            "orientation": "horizontal",
            "style": "IPY_MODEL_6f35f59527bf4e0cabebe3e564ff9bf8",
            "value": 1
          }
        },
        "3c01970fde7d4bdb88564e1a224b5ab3": {
          "model_module": "@jupyter-widgets/controls",
          "model_name": "HTMLModel",
          "model_module_version": "1.5.0",
          "state": {
            "_dom_classes": [],
            "_model_module": "@jupyter-widgets/controls",
            "_model_module_version": "1.5.0",
            "_model_name": "HTMLModel",
            "_view_count": null,
            "_view_module": "@jupyter-widgets/controls",
            "_view_module_version": "1.5.0",
            "_view_name": "HTMLView",
            "description": "",
            "description_tooltip": null,
            "layout": "IPY_MODEL_634bc38e9e7241aa976f777ae14ab417",
            "placeholder": "​",
            "style": "IPY_MODEL_e0cd696209a3430f8206c640d30715aa",
            "value": " 1/1 [00:00&lt;00:00,  7.24ba/s]"
          }
        },
        "bf790f999bd24a2fbf2f64867c059612": {
          "model_module": "@jupyter-widgets/base",
          "model_name": "LayoutModel",
          "model_module_version": "1.2.0",
          "state": {
            "_model_module": "@jupyter-widgets/base",
            "_model_module_version": "1.2.0",
            "_model_name": "LayoutModel",
            "_view_count": null,
            "_view_module": "@jupyter-widgets/base",
            "_view_module_version": "1.2.0",
            "_view_name": "LayoutView",
            "align_content": null,
            "align_items": null,
            "align_self": null,
            "border": null,
            "bottom": null,
            "display": null,
            "flex": null,
            "flex_flow": null,
            "grid_area": null,
            "grid_auto_columns": null,
            "grid_auto_flow": null,
            "grid_auto_rows": null,
            "grid_column": null,
            "grid_gap": null,
            "grid_row": null,
            "grid_template_areas": null,
            "grid_template_columns": null,
            "grid_template_rows": null,
            "height": null,
            "justify_content": null,
            "justify_items": null,
            "left": null,
            "margin": null,
            "max_height": null,
            "max_width": null,
            "min_height": null,
            "min_width": null,
            "object_fit": null,
            "object_position": null,
            "order": null,
            "overflow": null,
            "overflow_x": null,
            "overflow_y": null,
            "padding": null,
            "right": null,
            "top": null,
            "visibility": null,
            "width": null
          }
        },
        "1d2373f645c54896b76f71c94e0ebe0b": {
          "model_module": "@jupyter-widgets/base",
          "model_name": "LayoutModel",
          "model_module_version": "1.2.0",
          "state": {
            "_model_module": "@jupyter-widgets/base",
            "_model_module_version": "1.2.0",
            "_model_name": "LayoutModel",
            "_view_count": null,
            "_view_module": "@jupyter-widgets/base",
            "_view_module_version": "1.2.0",
            "_view_name": "LayoutView",
            "align_content": null,
            "align_items": null,
            "align_self": null,
            "border": null,
            "bottom": null,
            "display": null,
            "flex": null,
            "flex_flow": null,
            "grid_area": null,
            "grid_auto_columns": null,
            "grid_auto_flow": null,
            "grid_auto_rows": null,
            "grid_column": null,
            "grid_gap": null,
            "grid_row": null,
            "grid_template_areas": null,
            "grid_template_columns": null,
            "grid_template_rows": null,
            "height": null,
            "justify_content": null,
            "justify_items": null,
            "left": null,
            "margin": null,
            "max_height": null,
            "max_width": null,
            "min_height": null,
            "min_width": null,
            "object_fit": null,
            "object_position": null,
            "order": null,
            "overflow": null,
            "overflow_x": null,
            "overflow_y": null,
            "padding": null,
            "right": null,
            "top": null,
            "visibility": null,
            "width": null
          }
        },
        "aca05f5bb9f84fdb88a95b8e2f286bd2": {
          "model_module": "@jupyter-widgets/controls",
          "model_name": "DescriptionStyleModel",
          "model_module_version": "1.5.0",
          "state": {
            "_model_module": "@jupyter-widgets/controls",
            "_model_module_version": "1.5.0",
            "_model_name": "DescriptionStyleModel",
            "_view_count": null,
            "_view_module": "@jupyter-widgets/base",
            "_view_module_version": "1.2.0",
            "_view_name": "StyleView",
            "description_width": ""
          }
        },
        "cf1f5a3dcd29421bb5e4102d11f5e1fd": {
          "model_module": "@jupyter-widgets/base",
          "model_name": "LayoutModel",
          "model_module_version": "1.2.0",
          "state": {
            "_model_module": "@jupyter-widgets/base",
            "_model_module_version": "1.2.0",
            "_model_name": "LayoutModel",
            "_view_count": null,
            "_view_module": "@jupyter-widgets/base",
            "_view_module_version": "1.2.0",
            "_view_name": "LayoutView",
            "align_content": null,
            "align_items": null,
            "align_self": null,
            "border": null,
            "bottom": null,
            "display": null,
            "flex": null,
            "flex_flow": null,
            "grid_area": null,
            "grid_auto_columns": null,
            "grid_auto_flow": null,
            "grid_auto_rows": null,
            "grid_column": null,
            "grid_gap": null,
            "grid_row": null,
            "grid_template_areas": null,
            "grid_template_columns": null,
            "grid_template_rows": null,
            "height": null,
            "justify_content": null,
            "justify_items": null,
            "left": null,
            "margin": null,
            "max_height": null,
            "max_width": null,
            "min_height": null,
            "min_width": null,
            "object_fit": null,
            "object_position": null,
            "order": null,
            "overflow": null,
            "overflow_x": null,
            "overflow_y": null,
            "padding": null,
            "right": null,
            "top": null,
            "visibility": null,
            "width": null
          }
        },
        "6f35f59527bf4e0cabebe3e564ff9bf8": {
          "model_module": "@jupyter-widgets/controls",
          "model_name": "ProgressStyleModel",
          "model_module_version": "1.5.0",
          "state": {
            "_model_module": "@jupyter-widgets/controls",
            "_model_module_version": "1.5.0",
            "_model_name": "ProgressStyleModel",
            "_view_count": null,
            "_view_module": "@jupyter-widgets/base",
            "_view_module_version": "1.2.0",
            "_view_name": "StyleView",
            "bar_color": null,
            "description_width": ""
          }
        },
        "634bc38e9e7241aa976f777ae14ab417": {
          "model_module": "@jupyter-widgets/base",
          "model_name": "LayoutModel",
          "model_module_version": "1.2.0",
          "state": {
            "_model_module": "@jupyter-widgets/base",
            "_model_module_version": "1.2.0",
            "_model_name": "LayoutModel",
            "_view_count": null,
            "_view_module": "@jupyter-widgets/base",
            "_view_module_version": "1.2.0",
            "_view_name": "LayoutView",
            "align_content": null,
            "align_items": null,
            "align_self": null,
            "border": null,
            "bottom": null,
            "display": null,
            "flex": null,
            "flex_flow": null,
            "grid_area": null,
            "grid_auto_columns": null,
            "grid_auto_flow": null,
            "grid_auto_rows": null,
            "grid_column": null,
            "grid_gap": null,
            "grid_row": null,
            "grid_template_areas": null,
            "grid_template_columns": null,
            "grid_template_rows": null,
            "height": null,
            "justify_content": null,
            "justify_items": null,
            "left": null,
            "margin": null,
            "max_height": null,
            "max_width": null,
            "min_height": null,
            "min_width": null,
            "object_fit": null,
            "object_position": null,
            "order": null,
            "overflow": null,
            "overflow_x": null,
            "overflow_y": null,
            "padding": null,
            "right": null,
            "top": null,
            "visibility": null,
            "width": null
          }
        },
        "e0cd696209a3430f8206c640d30715aa": {
          "model_module": "@jupyter-widgets/controls",
          "model_name": "DescriptionStyleModel",
          "model_module_version": "1.5.0",
          "state": {
            "_model_module": "@jupyter-widgets/controls",
            "_model_module_version": "1.5.0",
            "_model_name": "DescriptionStyleModel",
            "_view_count": null,
            "_view_module": "@jupyter-widgets/base",
            "_view_module_version": "1.2.0",
            "_view_name": "StyleView",
            "description_width": ""
          }
        }
      }
    }
  },
  "cells": [
    {
      "cell_type": "markdown",
      "metadata": {
        "id": "view-in-github",
        "colab_type": "text"
      },
      "source": [
        "<a href=\"https://colab.research.google.com/github/NonKhuna/Depression-classification/blob/main/depression_indiv.ipynb\" target=\"_parent\"><img src=\"https://colab.research.google.com/assets/colab-badge.svg\" alt=\"Open In Colab\"/></a>"
      ]
    },
    {
      "cell_type": "markdown",
      "source": [
        "# Import Data"
      ],
      "metadata": {
        "id": "b2ywVlZCay-z"
      }
    },
    {
      "cell_type": "markdown",
      "source": [
        "## Download dataset"
      ],
      "metadata": {
        "id": "Yi2cl279T2mb"
      }
    },
    {
      "cell_type": "code",
      "source": [
        "!gdown 1DRAz1xOz-liOenuQY86oeWVqsNlwqJaG"
      ],
      "metadata": {
        "colab": {
          "base_uri": "https://localhost:8080/"
        },
        "id": "PKUrCz3Da0YE",
        "outputId": "2fee9016-e24d-470a-fe23-884dcb262c77"
      },
      "execution_count": null,
      "outputs": [
        {
          "output_type": "stream",
          "name": "stdout",
          "text": [
            "Downloading...\n",
            "From: https://drive.google.com/uc?id=1DRAz1xOz-liOenuQY86oeWVqsNlwqJaG\n",
            "To: /content/participant_txt_df_all_Concentrating (1).csv\n",
            "\r  0% 0.00/255k [00:00<?, ?B/s]\r100% 255k/255k [00:00<00:00, 103MB/s]\n"
          ]
        }
      ]
    },
    {
      "cell_type": "code",
      "source": [
        "# Dattaset from kaggle\n",
        "!mkdir ~/.kaggle\n",
        "!cp kaggle.json ~/.kaggle/\n",
        "!chmod 600 ~/.kaggle/kaggle.json\n",
        "!kaggle datasets download -d infamouscoder/depression-reddit-cleaned\n",
        "!unzip /content/depression-reddit-cleaned.zip"
      ],
      "metadata": {
        "colab": {
          "base_uri": "https://localhost:8080/"
        },
        "id": "gh6LLP5EStGL",
        "outputId": "2e3a12f4-769b-4611-f73c-246ff1550a9e"
      },
      "execution_count": null,
      "outputs": [
        {
          "output_type": "stream",
          "name": "stdout",
          "text": [
            "mkdir: cannot create directory ‘/root/.kaggle’: File exists\n",
            "Downloading depression-reddit-cleaned.zip to /content\n",
            "  0% 0.00/979k [00:00<?, ?B/s]\n",
            "100% 979k/979k [00:00<00:00, 162MB/s]\n",
            "Archive:  /content/depression-reddit-cleaned.zip\n",
            "  inflating: depression_dataset_reddit_cleaned.csv  \n"
          ]
        }
      ]
    },
    {
      "cell_type": "markdown",
      "source": [
        "## Load DataFrame"
      ],
      "metadata": {
        "id": "svr77-P3T8Xh"
      }
    },
    {
      "cell_type": "markdown",
      "source": [
        "### Dataset 1 from indiv (be Test set)"
      ],
      "metadata": {
        "id": "UoG1MY3BUEDm"
      }
    },
    {
      "cell_type": "code",
      "source": [
        "import pandas as pd"
      ],
      "metadata": {
        "id": "u_wNjb3sa51X"
      },
      "execution_count": null,
      "outputs": []
    },
    {
      "cell_type": "code",
      "source": [
        "df = pd.read_csv(\"participant_txt_df_all_Concentrating (1).csv\")"
      ],
      "metadata": {
        "id": "1NKJdJe4aj0H"
      },
      "execution_count": null,
      "outputs": []
    },
    {
      "cell_type": "code",
      "source": [
        "df['text'] = df['text'].str.strip()\n",
        "df['text'] = df['text'].str.lower()\n",
        "df.head()"
      ],
      "metadata": {
        "colab": {
          "base_uri": "https://localhost:8080/"
        },
        "id": "lv-_mhfja0w9",
        "outputId": "4bb2c839-c409-44f3-9158-e00c59353bed"
      },
      "execution_count": null,
      "outputs": [
        {
          "output_type": "execute_result",
          "data": {
            "text/plain": [
              "   Participant_ID                                               text  \\\n",
              "0             302  im fine how about yourself im from los angeles...   \n",
              "1             307  laughter um moscow um my family moved to the u...   \n",
              "2             331  yes okay connecticut um to be an actor laughte...   \n",
              "3             335  yes im okay uh im from here originally los ang...   \n",
              "4             346  yes im okay here in los angeles theres a lot o...   \n",
              "\n",
              "   isDepressed  target  \n",
              "0            0       0  \n",
              "1            0       0  \n",
              "2            0       1  \n",
              "3            1       1  \n",
              "4            1       3  "
            ],
            "text/html": [
              "\n",
              "  <div id=\"df-50875769-0484-4c42-bb3f-c06b5becdac2\">\n",
              "    <div class=\"colab-df-container\">\n",
              "      <div>\n",
              "<style scoped>\n",
              "    .dataframe tbody tr th:only-of-type {\n",
              "        vertical-align: middle;\n",
              "    }\n",
              "\n",
              "    .dataframe tbody tr th {\n",
              "        vertical-align: top;\n",
              "    }\n",
              "\n",
              "    .dataframe thead th {\n",
              "        text-align: right;\n",
              "    }\n",
              "</style>\n",
              "<table border=\"1\" class=\"dataframe\">\n",
              "  <thead>\n",
              "    <tr style=\"text-align: right;\">\n",
              "      <th></th>\n",
              "      <th>Participant_ID</th>\n",
              "      <th>text</th>\n",
              "      <th>isDepressed</th>\n",
              "      <th>target</th>\n",
              "    </tr>\n",
              "  </thead>\n",
              "  <tbody>\n",
              "    <tr>\n",
              "      <th>0</th>\n",
              "      <td>302</td>\n",
              "      <td>im fine how about yourself im from los angeles...</td>\n",
              "      <td>0</td>\n",
              "      <td>0</td>\n",
              "    </tr>\n",
              "    <tr>\n",
              "      <th>1</th>\n",
              "      <td>307</td>\n",
              "      <td>laughter um moscow um my family moved to the u...</td>\n",
              "      <td>0</td>\n",
              "      <td>0</td>\n",
              "    </tr>\n",
              "    <tr>\n",
              "      <th>2</th>\n",
              "      <td>331</td>\n",
              "      <td>yes okay connecticut um to be an actor laughte...</td>\n",
              "      <td>0</td>\n",
              "      <td>1</td>\n",
              "    </tr>\n",
              "    <tr>\n",
              "      <th>3</th>\n",
              "      <td>335</td>\n",
              "      <td>yes im okay uh im from here originally los ang...</td>\n",
              "      <td>1</td>\n",
              "      <td>1</td>\n",
              "    </tr>\n",
              "    <tr>\n",
              "      <th>4</th>\n",
              "      <td>346</td>\n",
              "      <td>yes im okay here in los angeles theres a lot o...</td>\n",
              "      <td>1</td>\n",
              "      <td>3</td>\n",
              "    </tr>\n",
              "  </tbody>\n",
              "</table>\n",
              "</div>\n",
              "      <button class=\"colab-df-convert\" onclick=\"convertToInteractive('df-50875769-0484-4c42-bb3f-c06b5becdac2')\"\n",
              "              title=\"Convert this dataframe to an interactive table.\"\n",
              "              style=\"display:none;\">\n",
              "        \n",
              "  <svg xmlns=\"http://www.w3.org/2000/svg\" height=\"24px\"viewBox=\"0 0 24 24\"\n",
              "       width=\"24px\">\n",
              "    <path d=\"M0 0h24v24H0V0z\" fill=\"none\"/>\n",
              "    <path d=\"M18.56 5.44l.94 2.06.94-2.06 2.06-.94-2.06-.94-.94-2.06-.94 2.06-2.06.94zm-11 1L8.5 8.5l.94-2.06 2.06-.94-2.06-.94L8.5 2.5l-.94 2.06-2.06.94zm10 10l.94 2.06.94-2.06 2.06-.94-2.06-.94-.94-2.06-.94 2.06-2.06.94z\"/><path d=\"M17.41 7.96l-1.37-1.37c-.4-.4-.92-.59-1.43-.59-.52 0-1.04.2-1.43.59L10.3 9.45l-7.72 7.72c-.78.78-.78 2.05 0 2.83L4 21.41c.39.39.9.59 1.41.59.51 0 1.02-.2 1.41-.59l7.78-7.78 2.81-2.81c.8-.78.8-2.07 0-2.86zM5.41 20L4 18.59l7.72-7.72 1.47 1.35L5.41 20z\"/>\n",
              "  </svg>\n",
              "      </button>\n",
              "      \n",
              "  <style>\n",
              "    .colab-df-container {\n",
              "      display:flex;\n",
              "      flex-wrap:wrap;\n",
              "      gap: 12px;\n",
              "    }\n",
              "\n",
              "    .colab-df-convert {\n",
              "      background-color: #E8F0FE;\n",
              "      border: none;\n",
              "      border-radius: 50%;\n",
              "      cursor: pointer;\n",
              "      display: none;\n",
              "      fill: #1967D2;\n",
              "      height: 32px;\n",
              "      padding: 0 0 0 0;\n",
              "      width: 32px;\n",
              "    }\n",
              "\n",
              "    .colab-df-convert:hover {\n",
              "      background-color: #E2EBFA;\n",
              "      box-shadow: 0px 1px 2px rgba(60, 64, 67, 0.3), 0px 1px 3px 1px rgba(60, 64, 67, 0.15);\n",
              "      fill: #174EA6;\n",
              "    }\n",
              "\n",
              "    [theme=dark] .colab-df-convert {\n",
              "      background-color: #3B4455;\n",
              "      fill: #D2E3FC;\n",
              "    }\n",
              "\n",
              "    [theme=dark] .colab-df-convert:hover {\n",
              "      background-color: #434B5C;\n",
              "      box-shadow: 0px 1px 3px 1px rgba(0, 0, 0, 0.15);\n",
              "      filter: drop-shadow(0px 1px 2px rgba(0, 0, 0, 0.3));\n",
              "      fill: #FFFFFF;\n",
              "    }\n",
              "  </style>\n",
              "\n",
              "      <script>\n",
              "        const buttonEl =\n",
              "          document.querySelector('#df-50875769-0484-4c42-bb3f-c06b5becdac2 button.colab-df-convert');\n",
              "        buttonEl.style.display =\n",
              "          google.colab.kernel.accessAllowed ? 'block' : 'none';\n",
              "\n",
              "        async function convertToInteractive(key) {\n",
              "          const element = document.querySelector('#df-50875769-0484-4c42-bb3f-c06b5becdac2');\n",
              "          const dataTable =\n",
              "            await google.colab.kernel.invokeFunction('convertToInteractive',\n",
              "                                                     [key], {});\n",
              "          if (!dataTable) return;\n",
              "\n",
              "          const docLinkHtml = 'Like what you see? Visit the ' +\n",
              "            '<a target=\"_blank\" href=https://colab.research.google.com/notebooks/data_table.ipynb>data table notebook</a>'\n",
              "            + ' to learn more about interactive tables.';\n",
              "          element.innerHTML = '';\n",
              "          dataTable['output_type'] = 'display_data';\n",
              "          await google.colab.output.renderOutput(dataTable, element);\n",
              "          const docLink = document.createElement('div');\n",
              "          docLink.innerHTML = docLinkHtml;\n",
              "          element.appendChild(docLink);\n",
              "        }\n",
              "      </script>\n",
              "    </div>\n",
              "  </div>\n",
              "  "
            ]
          },
          "metadata": {},
          "execution_count": 212
        }
      ]
    },
    {
      "cell_type": "code",
      "source": [
        "df.shape"
      ],
      "metadata": {
        "colab": {
          "base_uri": "https://localhost:8080/"
        },
        "id": "rdJuUENQbGpD",
        "outputId": "44559364-f1ca-4797-fd43-b6a3f2581794"
      },
      "execution_count": null,
      "outputs": [
        {
          "output_type": "execute_result",
          "data": {
            "text/plain": [
              "(34, 4)"
            ]
          },
          "metadata": {},
          "execution_count": 213
        }
      ]
    },
    {
      "cell_type": "code",
      "source": [
        "l = df['text'].str.len()\n",
        "l.mean(), l.max(), l.min()"
      ],
      "metadata": {
        "id": "anwpY6N0XQY5",
        "colab": {
          "base_uri": "https://localhost:8080/"
        },
        "outputId": "95207d10-51e9-4e4f-efb8-53dfe7e73bb6"
      },
      "execution_count": null,
      "outputs": [
        {
          "output_type": "execute_result",
          "data": {
            "text/plain": [
              "(7502.5, 14425, 2235)"
            ]
          },
          "metadata": {},
          "execution_count": 214
        }
      ]
    },
    {
      "cell_type": "code",
      "source": [
        "l.hist()"
      ],
      "metadata": {
        "colab": {
          "base_uri": "https://localhost:8080/"
        },
        "id": "kXhUSbhdoTlX",
        "outputId": "3df9b167-5c4a-4e1c-d3b3-f1aa62e35e25"
      },
      "execution_count": null,
      "outputs": [
        {
          "output_type": "execute_result",
          "data": {
            "text/plain": [
              "<matplotlib.axes._subplots.AxesSubplot at 0x7f2090deaeb0>"
            ]
          },
          "metadata": {},
          "execution_count": 215
        },
        {
          "output_type": "display_data",
          "data": {
            "text/plain": [
              "<Figure size 432x288 with 1 Axes>"
            ],
            "image/png": "[encoded data removed]"
          },
          "metadata": {
            "needs_background": "light"
          }
        }
      ]
    },
    {
      "cell_type": "code",
      "source": [
        "df['isDepressed'].value_counts()"
      ],
      "metadata": {
        "colab": {
          "base_uri": "https://localhost:8080/"
        },
        "id": "wZjcWlGORnMJ",
        "outputId": "a199a3bf-5d51-47b8-a550-76cb9a5fc302"
      },
      "execution_count": null,
      "outputs": [
        {
          "output_type": "execute_result",
          "data": {
            "text/plain": [
              "0    22\n",
              "1    12\n",
              "Name: isDepressed, dtype: int64"
            ]
          },
          "metadata": {},
          "execution_count": 216
        }
      ]
    },
    {
      "cell_type": "code",
      "source": [
        "from sklearn.model_selection import train_test_split\n",
        "import pickle\n",
        "X = df['text']\n",
        "y = df['isDepressed']\n",
        "X_train, X_test, y_train,y_test = train_test_split(X,y, train_size=0.8, random_state=14)\n",
        "X.shape, y.shape"
      ],
      "metadata": {
        "id": "evxedRPUUi_K",
        "colab": {
          "base_uri": "https://localhost:8080/"
        },
        "outputId": "4beb7584-7159-408e-f000-4cc84a52ff5f"
      },
      "execution_count": null,
      "outputs": [
        {
          "output_type": "execute_result",
          "data": {
            "text/plain": [
              "((34,), (34,))"
            ]
          },
          "metadata": {},
          "execution_count": 217
        }
      ]
    },
    {
      "cell_type": "markdown",
      "source": [
        "### Dataset 2 from kaggle Depression: Reddit Dataset (Cleaned)\n"
      ],
      "metadata": {
        "id": "K-wSz2EIULPn"
      }
    },
    {
      "cell_type": "code",
      "source": [
        "import pandas as pd\n",
        "df = pd.read_csv(\"/content/depression_dataset_reddit_cleaned.csv\")\n",
        "df['clean_text'] = df['clean_text'].str.strip()\n",
        "df['clean_text'] = df['clean_text'].str.lower()\n",
        "df.head()"
      ],
      "metadata": {
        "colab": {
          "base_uri": "https://localhost:8080/"
        },
        "id": "YA28fWXnUTDO",
        "outputId": "cf77f1e6-14b3-4e75-aad3-dca60f4235f7"
      },
      "execution_count": null,
      "outputs": [
        {
          "output_type": "execute_result",
          "data": {
            "text/plain": [
              "                                          clean_text  is_depression\n",
              "0  we understand that most people who reply immed...              1\n",
              "1  welcome to r depression s check in post a plac...              1\n",
              "2  anyone else instead of sleeping more when depr...              1\n",
              "3  i ve kind of stuffed around a lot in my life d...              1\n",
              "4  sleep is my greatest and most comforting escap...              1"
            ],
            "text/html": [
              "\n",
              "  <div id=\"df-236feffd-7598-403d-8aa3-cd0837d7cbac\">\n",
              "    <div class=\"colab-df-container\">\n",
              "      <div>\n",
              "<style scoped>\n",
              "    .dataframe tbody tr th:only-of-type {\n",
              "        vertical-align: middle;\n",
              "    }\n",
              "\n",
              "    .dataframe tbody tr th {\n",
              "        vertical-align: top;\n",
              "    }\n",
              "\n",
              "    .dataframe thead th {\n",
              "        text-align: right;\n",
              "    }\n",
              "</style>\n",
              "<table border=\"1\" class=\"dataframe\">\n",
              "  <thead>\n",
              "    <tr style=\"text-align: right;\">\n",
              "      <th></th>\n",
              "      <th>clean_text</th>\n",
              "      <th>is_depression</th>\n",
              "    </tr>\n",
              "  </thead>\n",
              "  <tbody>\n",
              "    <tr>\n",
              "      <th>0</th>\n",
              "      <td>we understand that most people who reply immed...</td>\n",
              "      <td>1</td>\n",
              "    </tr>\n",
              "    <tr>\n",
              "      <th>1</th>\n",
              "      <td>welcome to r depression s check in post a plac...</td>\n",
              "      <td>1</td>\n",
              "    </tr>\n",
              "    <tr>\n",
              "      <th>2</th>\n",
              "      <td>anyone else instead of sleeping more when depr...</td>\n",
              "      <td>1</td>\n",
              "    </tr>\n",
              "    <tr>\n",
              "      <th>3</th>\n",
              "      <td>i ve kind of stuffed around a lot in my life d...</td>\n",
              "      <td>1</td>\n",
              "    </tr>\n",
              "    <tr>\n",
              "      <th>4</th>\n",
              "      <td>sleep is my greatest and most comforting escap...</td>\n",
              "      <td>1</td>\n",
              "    </tr>\n",
              "  </tbody>\n",
              "</table>\n",
              "</div>\n",
              "      <button class=\"colab-df-convert\" onclick=\"convertToInteractive('df-236feffd-7598-403d-8aa3-cd0837d7cbac')\"\n",
              "              title=\"Convert this dataframe to an interactive table.\"\n",
              "              style=\"display:none;\">\n",
              "        \n",
              "  <svg xmlns=\"http://www.w3.org/2000/svg\" height=\"24px\"viewBox=\"0 0 24 24\"\n",
              "       width=\"24px\">\n",
              "    <path d=\"M0 0h24v24H0V0z\" fill=\"none\"/>\n",
              "    <path d=\"M18.56 5.44l.94 2.06.94-2.06 2.06-.94-2.06-.94-.94-2.06-.94 2.06-2.06.94zm-11 1L8.5 8.5l.94-2.06 2.06-.94-2.06-.94L8.5 2.5l-.94 2.06-2.06.94zm10 10l.94 2.06.94-2.06 2.06-.94-2.06-.94-.94-2.06-.94 2.06-2.06.94z\"/><path d=\"M17.41 7.96l-1.37-1.37c-.4-.4-.92-.59-1.43-.59-.52 0-1.04.2-1.43.59L10.3 9.45l-7.72 7.72c-.78.78-.78 2.05 0 2.83L4 21.41c.39.39.9.59 1.41.59.51 0 1.02-.2 1.41-.59l7.78-7.78 2.81-2.81c.8-.78.8-2.07 0-2.86zM5.41 20L4 18.59l7.72-7.72 1.47 1.35L5.41 20z\"/>\n",
              "  </svg>\n",
              "      </button>\n",
              "      \n",
              "  <style>\n",
              "    .colab-df-container {\n",
              "      display:flex;\n",
              "      flex-wrap:wrap;\n",
              "      gap: 12px;\n",
              "    }\n",
              "\n",
              "    .colab-df-convert {\n",
              "      background-color: #E8F0FE;\n",
              "      border: none;\n",
              "      border-radius: 50%;\n",
              "      cursor: pointer;\n",
              "      display: none;\n",
              "      fill: #1967D2;\n",
              "      height: 32px;\n",
              "      padding: 0 0 0 0;\n",
              "      width: 32px;\n",
              "    }\n",
              "\n",
              "    .colab-df-convert:hover {\n",
              "      background-color: #E2EBFA;\n",
              "      box-shadow: 0px 1px 2px rgba(60, 64, 67, 0.3), 0px 1px 3px 1px rgba(60, 64, 67, 0.15);\n",
              "      fill: #174EA6;\n",
              "    }\n",
              "\n",
              "    [theme=dark] .colab-df-convert {\n",
              "      background-color: #3B4455;\n",
              "      fill: #D2E3FC;\n",
              "    }\n",
              "\n",
              "    [theme=dark] .colab-df-convert:hover {\n",
              "      background-color: #434B5C;\n",
              "      box-shadow: 0px 1px 3px 1px rgba(0, 0, 0, 0.15);\n",
              "      filter: drop-shadow(0px 1px 2px rgba(0, 0, 0, 0.3));\n",
              "      fill: #FFFFFF;\n",
              "    }\n",
              "  </style>\n",
              "\n",
              "      <script>\n",
              "        const buttonEl =\n",
              "          document.querySelector('#df-236feffd-7598-403d-8aa3-cd0837d7cbac button.colab-df-convert');\n",
              "        buttonEl.style.display =\n",
              "          google.colab.kernel.accessAllowed ? 'block' : 'none';\n",
              "\n",
              "        async function convertToInteractive(key) {\n",
              "          const element = document.querySelector('#df-236feffd-7598-403d-8aa3-cd0837d7cbac');\n",
              "          const dataTable =\n",
              "            await google.colab.kernel.invokeFunction('convertToInteractive',\n",
              "                                                     [key], {});\n",
              "          if (!dataTable) return;\n",
              "\n",
              "          const docLinkHtml = 'Like what you see? Visit the ' +\n",
              "            '<a target=\"_blank\" href=https://colab.research.google.com/notebooks/data_table.ipynb>data table notebook</a>'\n",
              "            + ' to learn more about interactive tables.';\n",
              "          element.innerHTML = '';\n",
              "          dataTable['output_type'] = 'display_data';\n",
              "          await google.colab.output.renderOutput(dataTable, element);\n",
              "          const docLink = document.createElement('div');\n",
              "          docLink.innerHTML = docLinkHtml;\n",
              "          element.appendChild(docLink);\n",
              "        }\n",
              "      </script>\n",
              "    </div>\n",
              "  </div>\n",
              "  "
            ]
          },
          "metadata": {},
          "execution_count": 240
        }
      ]
    },
    {
      "cell_type": "code",
      "source": [
        "df['is_depression'].value_counts()"
      ],
      "metadata": {
        "colab": {
          "base_uri": "https://localhost:8080/"
        },
        "id": "VDNKvzl8M4Ex",
        "outputId": "184304d1-4f3b-46b8-bc98-d2064703d54b"
      },
      "execution_count": null,
      "outputs": [
        {
          "output_type": "execute_result",
          "data": {
            "text/plain": [
              "0    3900\n",
              "1    3831\n",
              "Name: is_depression, dtype: int64"
            ]
          },
          "metadata": {},
          "execution_count": 241
        }
      ]
    },
    {
      "cell_type": "code",
      "source": [
        "from sklearn.model_selection import train_test_split\n",
        "import pickle\n",
        "X= df['clean_text']\n",
        "y = df['is_depression']\n",
        "X_train, X_test, y_train,y_test = train_test_split(X,y, train_size=0.8, random_state=14)\n",
        "X_train.shape, y_train.shape"
      ],
      "metadata": {
        "colab": {
          "base_uri": "https://localhost:8080/"
        },
        "id": "bcxasmUMUmhi",
        "outputId": "3ddceb0f-01b7-4dd8-b9c7-377cce272295"
      },
      "execution_count": null,
      "outputs": [
        {
          "output_type": "execute_result",
          "data": {
            "text/plain": [
              "((6184,), (6184,))"
            ]
          },
          "metadata": {},
          "execution_count": 242
        }
      ]
    },
    {
      "cell_type": "markdown",
      "source": [
        "# Model"
      ],
      "metadata": {
        "id": "zbY-Zm09gYPs"
      }
    },
    {
      "cell_type": "code",
      "source": [
        "!pip install pythainlp"
      ],
      "metadata": {
        "colab": {
          "base_uri": "https://localhost:8080/"
        },
        "id": "-g9T4lgIg0tL",
        "outputId": "d52b4b9d-ce6d-4173-a472-2457f539bad7"
      },
      "execution_count": null,
      "outputs": [
        {
          "output_type": "stream",
          "name": "stdout",
          "text": [
            "Looking in indexes: https://pypi.org/simple, https://us-python.pkg.dev/colab-wheels/public/simple/\n",
            "Collecting pythainlp\n",
            "  Downloading pythainlp-3.1.1-py3-none-any.whl (9.6 MB)\n",
            "\u001b[K     |████████████████████████████████| 9.6 MB 31.5 MB/s \n",
            "\u001b[?25hRequirement already satisfied: requests>=2.22.0 in /usr/local/lib/python3.8/dist-packages (from pythainlp) (2.23.0)\n",
            "Requirement already satisfied: urllib3!=1.25.0,!=1.25.1,<1.26,>=1.21.1 in /usr/local/lib/python3.8/dist-packages (from requests>=2.22.0->pythainlp) (1.24.3)\n",
            "Requirement already satisfied: idna<3,>=2.5 in /usr/local/lib/python3.8/dist-packages (from requests>=2.22.0->pythainlp) (2.10)\n",
            "Requirement already satisfied: certifi>=2017.4.17 in /usr/local/lib/python3.8/dist-packages (from requests>=2.22.0->pythainlp) (2022.9.24)\n",
            "Requirement already satisfied: chardet<4,>=3.0.2 in /usr/local/lib/python3.8/dist-packages (from requests>=2.22.0->pythainlp) (3.0.4)\n",
            "Installing collected packages: pythainlp\n",
            "Successfully installed pythainlp-3.1.1\n"
          ]
        }
      ]
    },
    {
      "cell_type": "code",
      "source": [
        "from sklearn.feature_extraction.text import CountVectorizer, TfidfVectorizer\n",
        "from sklearn.naive_bayes import MultinomialNB\n",
        "import pickle\n",
        "from sklearn.metrics import classification_report, roc_curve, auc, roc_auc_score\n",
        "import matplotlib.pyplot as plt\n",
        "# from pythainlp import word_tokenize\n",
        "from nltk import word_tokenize"
      ],
      "metadata": {
        "id": "oZIXkISgggTg"
      },
      "execution_count": null,
      "outputs": []
    },
    {
      "cell_type": "code",
      "source": [
        "import nltk\n",
        "from nltk.stem import PorterStemmer\n",
        "nltk.download('punkt')\n",
        "nltk.download('stopwords')\n",
        "nltk.download('wordnet')\n",
        "nltk.download('omw-1.4')"
      ],
      "metadata": {
        "colab": {
          "base_uri": "https://localhost:8080/"
        },
        "id": "8X7A2ULXjhXt",
        "outputId": "7c87810a-b8f2-4268-eeb2-115fe94d7da8"
      },
      "execution_count": null,
      "outputs": [
        {
          "output_type": "stream",
          "name": "stderr",
          "text": [
            "[nltk_data] Downloading package punkt to /root/nltk_data...\n",
            "[nltk_data]   Unzipping tokenizers/punkt.zip.\n",
            "[nltk_data] Downloading package stopwords to /root/nltk_data...\n",
            "[nltk_data]   Unzipping corpora/stopwords.zip.\n",
            "[nltk_data] Downloading package wordnet to /root/nltk_data...\n",
            "[nltk_data] Downloading package omw-1.4 to /root/nltk_data...\n"
          ]
        },
        {
          "output_type": "execute_result",
          "data": {
            "text/plain": [
              "True"
            ]
          },
          "metadata": {},
          "execution_count": 19
        }
      ]
    },
    {
      "cell_type": "markdown",
      "source": [
        "## Test Word tokenize"
      ],
      "metadata": {
        "id": "2dvv3kVHg8eg"
      }
    },
    {
      "cell_type": "code",
      "source": [
        "# set stopword\n",
        "from nltk.corpus import stopwords\n",
        "stop_words = set(stopwords.words('english'))\n",
        "from nltk.stem import WordNetLemmatizer\n",
        "\n",
        "def tokenizer(t):\n",
        "  token = word_tokenize(t)\n",
        "  # token = [t for t in token if not t.lower() in stop_words]\n",
        "  return token\n",
        "  # # Normalization part\n",
        "  # wordnet_lemmatizer = WordNetLemmatizer()\n",
        "  # lemma_word = []\n",
        "  # for w in token:\n",
        "  #   word1 = wordnet_lemmatizer.lemmatize(w, pos = \"n\")\n",
        "  #   word2 = wordnet_lemmatizer.lemmatize(word1, pos = \"v\")\n",
        "  #   word3 = wordnet_lemmatizer.lemmatize(word2, pos = (\"a\"))\n",
        "  #   lemma_word.append(word3)\n",
        "  # return lemma_word"
      ],
      "metadata": {
        "id": "tF7GZklwhDZi"
      },
      "execution_count": null,
      "outputs": []
    },
    {
      "cell_type": "code",
      "source": [
        "a1 = tokenizer(X_train[0])\n",
        "a2 = word_tokenize(X_train[0])"
      ],
      "metadata": {
        "id": "XbMRCxLE04PR",
        "colab": {
          "base_uri": "https://localhost:8080/",
          "height": 183
        },
        "outputId": "04b8a6e6-fcf0-48b7-d34e-17ddce4e10e7"
      },
      "execution_count": null,
      "outputs": [
        {
          "output_type": "error",
          "ename": "NameError",
          "evalue": "ignored",
          "traceback": [
            "\u001b[0;31m---------------------------------------------------------------------------\u001b[0m",
            "\u001b[0;31mNameError\u001b[0m                                 Traceback (most recent call last)",
            "\u001b[0;32m<ipython-input-13-f35e31e9e827>\u001b[0m in \u001b[0;36m<module>\u001b[0;34m\u001b[0m\n\u001b[0;32m----> 1\u001b[0;31m \u001b[0ma1\u001b[0m \u001b[0;34m=\u001b[0m \u001b[0mtokenizer\u001b[0m\u001b[0;34m(\u001b[0m\u001b[0mX_train\u001b[0m\u001b[0;34m[\u001b[0m\u001b[0;36m0\u001b[0m\u001b[0;34m]\u001b[0m\u001b[0;34m)\u001b[0m\u001b[0;34m\u001b[0m\u001b[0;34m\u001b[0m\u001b[0m\n\u001b[0m\u001b[1;32m      2\u001b[0m \u001b[0ma2\u001b[0m \u001b[0;34m=\u001b[0m \u001b[0mword_tokenize\u001b[0m\u001b[0;34m(\u001b[0m\u001b[0mX_train\u001b[0m\u001b[0;34m[\u001b[0m\u001b[0;36m0\u001b[0m\u001b[0;34m]\u001b[0m\u001b[0;34m)\u001b[0m\u001b[0;34m\u001b[0m\u001b[0;34m\u001b[0m\u001b[0m\n",
            "\u001b[0;31mNameError\u001b[0m: name 'X_train' is not defined"
          ]
        }
      ]
    },
    {
      "cell_type": "markdown",
      "source": [
        "## Model 1 N-gram + Naive Bayes"
      ],
      "metadata": {
        "id": "NwbqvqLAgYUH"
      }
    },
    {
      "cell_type": "code",
      "source": [
        "count_vec = CountVectorizer(\n",
        "    ngram_range = (1,2),\n",
        "    tokenizer=tokenizer,\n",
        "    min_df = 3,\n",
        "    max_df=0.9\n",
        ")\n",
        "model_nb = MultinomialNB()"
      ],
      "metadata": {
        "id": "ReumIxq4gXxz"
      },
      "execution_count": null,
      "outputs": []
    },
    {
      "cell_type": "code",
      "source": [
        "train_count = count_vec.fit_transform(X_train)\n",
        "test_count = count_vec.transform(X_test)"
      ],
      "metadata": {
        "id": "YLzEPDMwhmDK"
      },
      "execution_count": null,
      "outputs": []
    },
    {
      "cell_type": "code",
      "source": [
        "model_nb.fit(train_count, y_train)"
      ],
      "metadata": {
        "colab": {
          "base_uri": "https://localhost:8080/"
        },
        "id": "ddqx2V7Jhrt8",
        "outputId": "7035f295-4a35-44a0-ca64-54c8f453086d"
      },
      "execution_count": null,
      "outputs": [
        {
          "output_type": "execute_result",
          "data": {
            "text/plain": [
              "MultinomialNB()"
            ]
          },
          "metadata": {},
          "execution_count": 258
        }
      ]
    },
    {
      "cell_type": "code",
      "source": [
        "# print(classification_report(y_test, test_predict, digits=3))"
      ],
      "metadata": {
        "id": "DTy_jc_0h7RZ"
      },
      "execution_count": null,
      "outputs": []
    },
    {
      "cell_type": "code",
      "source": [
        "Y_mnb_score = model_nb.predict_proba(test_count)\n",
        "fpr_mnb, tpr_mnb, thresholds_mnb = roc_curve(y_test, Y_mnb_score[:, 1])\n",
        "plt.plot(fpr_mnb, tpr_mnb)\n",
        "plt.title(\"ROC of MultiNB\")\n",
        "plt.ylabel('True Positive Rate')\n",
        "plt.xlabel('False Positive Rate')\n",
        "plt.show()"
      ],
      "metadata": {
        "colab": {
          "base_uri": "https://localhost:8080/",
          "height": 295
        },
        "id": "geh3G1L19GnF",
        "outputId": "8897821c-60f4-437f-ad60-f683f0fc8601"
      },
      "execution_count": null,
      "outputs": [
        {
          "output_type": "display_data",
          "data": {
            "text/plain": [
              "<Figure size 432x288 with 1 Axes>"
            ],
            "image/png": "[encoded data removed]"
          },
          "metadata": {
            "needs_background": "light"
          }
        }
      ]
    },
    {
      "cell_type": "code",
      "source": [
        "\n",
        "cross_validation(model_nb, count_vec.fit_transform(X), y, _cv=5)"
      ],
      "metadata": {
        "colab": {
          "base_uri": "https://localhost:8080/"
        },
        "id": "sWeQHV63SWVK",
        "outputId": "c9db8d49-2d43-471b-878f-a854a40328e9"
      },
      "execution_count": null,
      "outputs": [
        {
          "output_type": "execute_result",
          "data": {
            "text/plain": [
              "{'Training Accuracy scores': array([0.94243208, 0.94405821, 0.94195635, 0.93759095, 0.93532741]),\n",
              " 'Mean Training Accuracy': 94.02729969954017,\n",
              " 'Training Precision scores': array([0.90538922, 0.90740186, 0.90315852, 0.8987794 , 0.90147635]),\n",
              " 'Mean Training Precision': 0.9032410696982838,\n",
              " 'Training Recall scores': array([0.98694517, 0.98792822, 0.98890701, 0.98499184, 0.97618271]),\n",
              " 'Mean Training Recall': 0.9849909915282031,\n",
              " 'Training F1 scores': array([0.94440974, 0.94595439, 0.94408971, 0.93991283, 0.93734336]),\n",
              " 'Mean Training F1 Score': 0.9423420048223715,\n",
              " 'Validation Accuracy scores': array([0.87976729, 0.88939198, 0.885511  , 0.89068564, 0.78460543]),\n",
              " 'Mean Validation Accuracy': 86.59922681382236,\n",
              " 'Validation Precision scores': array([0.81003202, 0.82800441, 0.8239824 , 0.84036488, 0.79217274]),\n",
              " 'Mean Validation Precision': 0.8189112890547496,\n",
              " 'Validation Recall scores': array([0.98956975, 0.98041775, 0.97780679, 0.96214099, 0.76631854]),\n",
              " 'Mean Validation Recall': 0.9352507650777333,\n",
              " 'Validation F1 scores': array([0.89084507, 0.8977884 , 0.89432836, 0.89713938, 0.77903119]),\n",
              " 'Mean Validation F1 Score': 0.8718264799341551}"
            ]
          },
          "metadata": {},
          "execution_count": 261
        }
      ]
    },
    {
      "cell_type": "code",
      "source": [
        "auc = roc_auc_score(y_test, Y_mnb_score[:, 1])\n",
        "print('AUC: %.3f' % auc)"
      ],
      "metadata": {
        "colab": {
          "base_uri": "https://localhost:8080/"
        },
        "id": "RUdbD3MFOMv5",
        "outputId": "9bdfd046-86b9-45dd-b48b-4a025979fbc3"
      },
      "execution_count": null,
      "outputs": [
        {
          "output_type": "stream",
          "name": "stdout",
          "text": [
            "AUC: 0.987\n"
          ]
        }
      ]
    },
    {
      "cell_type": "markdown",
      "source": [
        "### 5-fold cross-validation\n"
      ],
      "metadata": {
        "id": "k1rY9KIJvTGh"
      }
    },
    {
      "cell_type": "code",
      "source": [
        "from sklearn.model_selection import cross_validate\n",
        "def cross_validation(model, _X, _y, _cv=5):\n",
        "      '''Function to perform 5 Folds Cross-Validation\n",
        "       Parameters\n",
        "       ----------\n",
        "      model: Python Class, default=None\n",
        "              This is the machine learning algorithm to be used for training.\n",
        "      _X: array\n",
        "           This is the matrix of features.\n",
        "      _y: array\n",
        "           This is the target variable.\n",
        "      _cv: int, default=5\n",
        "          Determines the number of folds for cross-validation.\n",
        "       Returns\n",
        "       -------\n",
        "       The function returns a dictionary containing the metrics 'accuracy', 'precision',\n",
        "       'recall', 'f1' for both training set and validation set.\n",
        "      '''\n",
        "      _scoring = ['accuracy', 'precision', 'recall', 'f1']\n",
        "      results = cross_validate(estimator=model,\n",
        "                               X=_X,\n",
        "                               y=_y,\n",
        "                               cv=_cv,\n",
        "                               scoring=_scoring,\n",
        "                               return_train_score=True)\n",
        "      \n",
        "      return {\"Training Accuracy scores\": results['train_accuracy'],\n",
        "              \"Mean Training Accuracy\": results['train_accuracy'].mean()*100,\n",
        "              \"Training Precision scores\": results['train_precision'],\n",
        "              \"Mean Training Precision\": results['train_precision'].mean(),\n",
        "              \"Training Recall scores\": results['train_recall'],\n",
        "              \"Mean Training Recall\": results['train_recall'].mean(),\n",
        "              \"Training F1 scores\": results['train_f1'],\n",
        "              \"Mean Training F1 Score\": results['train_f1'].mean(),\n",
        "              \"Validation Accuracy scores\": results['test_accuracy'],\n",
        "              \"Mean Validation Accuracy\": results['test_accuracy'].mean()*100,\n",
        "              \"Validation Precision scores\": results['test_precision'],\n",
        "              \"Mean Validation Precision\": results['test_precision'].mean(),\n",
        "              \"Validation Recall scores\": results['test_recall'],\n",
        "              \"Mean Validation Recall\": results['test_recall'].mean(),\n",
        "              \"Validation F1 scores\": results['test_f1'],\n",
        "              \"Mean Validation F1 Score\": results['test_f1'].mean()\n",
        "              }"
      ],
      "metadata": {
        "id": "lhJAqTUUwoK-"
      },
      "execution_count": null,
      "outputs": []
    },
    {
      "cell_type": "code",
      "source": [
        "from sklearn.model_selection import StratifiedKFold\n",
        "from sklearn.base import clone\n",
        "import numpy as np\n",
        "def cross_validation_roc(model, _x, _y, _cv=5) :\n",
        "  kfold = StratifiedKFold(n_splits=_cv).split(_x,_y)\n",
        "  score = []\n",
        "  y_test_all = []\n",
        "  avg_all = []\n",
        "  for k, (train,test) in enumerate(kfold):\n",
        "    model_c =  clone(model)\n",
        "    model_c.fit(_x[train], _y[train])\n",
        "    y_score = model_c.predict_proba(_x[test])\n",
        "\n",
        "    re_score = model_c.predict(_x[test])\n",
        "    y_test_all.extend(_y[test])\n",
        "    score.extend(y_score[:,1])\n",
        "\n",
        "  fpr_mnb, tpr_mnb, thresholds_mnb = roc_curve(y_test_all, score)\n",
        "  plt.plot(fpr_mnb, tpr_mnb)\n",
        "  plt.title(\"ROC of MultiNB\")\n",
        "  plt.ylabel('True Positive Rate')\n",
        "  plt.xlabel('False Positive Rate')\n",
        "  plt.show()\n",
        "  auc = roc_auc_score(y_test_all, score)\n",
        "  print('Amount of test:', len(y_test_all))\n",
        "  print('AUC: %.3f' % auc)\n",
        "  # return fpr_mnb, tpr_mnb, thresholds_mnb\n",
        "# cross_validation_roc(model_nb, X_count, y, _cv=5)"
      ],
      "metadata": {
        "id": "Dl6dnzU0sYdd"
      },
      "execution_count": null,
      "outputs": []
    },
    {
      "cell_type": "code",
      "source": [
        "count_vec = CountVectorizer(\n",
        "    ngram_range = (1,2),\n",
        "    tokenizer=tokenizer,\n",
        "    min_df = 3,\n",
        "    max_df=0.9\n",
        ")\n",
        "model_nb = MultinomialNB()\n",
        "X_count = count_vec.fit_transform(X)\n",
        "cross_validation_roc(model_nb, X_count, y, _cv=5)\n",
        "cross_validation(model_nb, X_count, y, _cv=5)"
      ],
      "metadata": {
        "colab": {
          "base_uri": "https://localhost:8080/",
          "height": 746
        },
        "id": "0rMHdDqWvkZ0",
        "outputId": "e29feb3b-c7e9-4067-8d97-4d7da8258270"
      },
      "execution_count": null,
      "outputs": [
        {
          "output_type": "display_data",
          "data": {
            "text/plain": [
              "<Figure size 432x288 with 1 Axes>"
            ],
            "image/png": "[encoded data removed]"
          },
          "metadata": {
            "needs_background": "light"
          }
        },
        {
          "output_type": "stream",
          "name": "stdout",
          "text": [
            "Amount of test: 7731\n",
            "AUC: 0.956\n"
          ]
        },
        {
          "output_type": "execute_result",
          "data": {
            "text/plain": [
              "{'Training Accuracy scores': array([0.94243208, 0.94405821, 0.94195635, 0.93759095, 0.93532741]),\n",
              " 'Mean Training Accuracy': 94.02729969954017,\n",
              " 'Training Precision scores': array([0.90538922, 0.90740186, 0.90315852, 0.8987794 , 0.90147635]),\n",
              " 'Mean Training Precision': 0.9032410696982838,\n",
              " 'Training Recall scores': array([0.98694517, 0.98792822, 0.98890701, 0.98499184, 0.97618271]),\n",
              " 'Mean Training Recall': 0.9849909915282031,\n",
              " 'Training F1 scores': array([0.94440974, 0.94595439, 0.94408971, 0.93991283, 0.93734336]),\n",
              " 'Mean Training F1 Score': 0.9423420048223715,\n",
              " 'Validation Accuracy scores': array([0.87976729, 0.88939198, 0.885511  , 0.89068564, 0.78460543]),\n",
              " 'Mean Validation Accuracy': 86.59922681382236,\n",
              " 'Validation Precision scores': array([0.81003202, 0.82800441, 0.8239824 , 0.84036488, 0.79217274]),\n",
              " 'Mean Validation Precision': 0.8189112890547496,\n",
              " 'Validation Recall scores': array([0.98956975, 0.98041775, 0.97780679, 0.96214099, 0.76631854]),\n",
              " 'Mean Validation Recall': 0.9352507650777333,\n",
              " 'Validation F1 scores': array([0.89084507, 0.8977884 , 0.89432836, 0.89713938, 0.77903119]),\n",
              " 'Mean Validation F1 Score': 0.8718264799341551}"
            ]
          },
          "metadata": {},
          "execution_count": 263
        }
      ]
    },
    {
      "cell_type": "markdown",
      "source": [
        "## Model 2: TF-IDF(n-gram) + Logistic Regression"
      ],
      "metadata": {
        "id": "ZB0ukIGvidZ3"
      }
    },
    {
      "cell_type": "code",
      "source": [
        "from sklearn.linear_model import LogisticRegression"
      ],
      "metadata": {
        "id": "kJ1hdyHFiclm"
      },
      "execution_count": null,
      "outputs": []
    },
    {
      "cell_type": "code",
      "source": [
        "# TF-IDF\n",
        "tfidf = TfidfVectorizer(\n",
        "    ngram_range=(1,2),       # Use unigram and bigram\n",
        "    tokenizer=tokenizer, # Use `word_tokenize` method from pythainlp for tokenizer\n",
        "    min_df=2,                # The word found less than three times in dataset is ignored\n",
        "    max_df=0.9,              # The word found more than 90% of entries is ignore\n",
        "    use_idf=True,\n",
        "    smooth_idf=True, \n",
        "    sublinear_tf=True\n",
        ")\n",
        "# Logistic regresstion\n",
        "model = LogisticRegression(C=1, max_iter=300, random_state=42)"
      ],
      "metadata": {
        "id": "-OKWNFIEjE87"
      },
      "execution_count": null,
      "outputs": []
    },
    {
      "cell_type": "code",
      "source": [
        "train_tfidf = tfidf.fit_transform(X_train)\n",
        "test_tfidf = tfidf.transform(X_test)"
      ],
      "metadata": {
        "id": "Wwx-efVzjHjZ"
      },
      "execution_count": null,
      "outputs": []
    },
    {
      "cell_type": "code",
      "source": [
        "# Visualize extracted feature\n",
        "i = 4\n",
        "# sentence at index i\n",
        "print(\"Sentence: \", X_train[i])\n",
        "# Explore all features with count\n",
        "feature_list = tfidf.get_feature_names()\n",
        "print(\"Feature\" + \"\\t\\t\" + \"TF-IDF\")\n",
        "for indice, value in zip(train_tfidf[i].indices, train_tfidf[i].data):\n",
        "  tap = \"\\t\\t\"\n",
        "  if len(feature_list[indice]) > 7:\n",
        "    tap = \"\\t\"\n",
        "  print('\"' + feature_list[indice] + '\"' + tap + str(value))"
      ],
      "metadata": {
        "id": "4kwjOOJnjJef"
      },
      "execution_count": null,
      "outputs": []
    },
    {
      "cell_type": "code",
      "source": [
        "model.fit(train_tfidf, y_train)"
      ],
      "metadata": {
        "colab": {
          "base_uri": "https://localhost:8080/"
        },
        "id": "iDgrHlxTj2yW",
        "outputId": "ae9d4cb4-a21d-4c8a-ad9a-89f51b963ae3"
      },
      "execution_count": null,
      "outputs": [
        {
          "output_type": "execute_result",
          "data": {
            "text/plain": [
              "LogisticRegression(C=1, max_iter=300, random_state=42)"
            ]
          },
          "metadata": {},
          "execution_count": 182
        }
      ]
    },
    {
      "cell_type": "code",
      "source": [
        "test_predict = model.predict(test_tfidf)"
      ],
      "metadata": {
        "id": "y9sLhi42j-aQ"
      },
      "execution_count": null,
      "outputs": []
    },
    {
      "cell_type": "code",
      "source": [
        "print(\"logistic \\n\", classification_report(y_test, test_predict, digits=3))"
      ],
      "metadata": {
        "colab": {
          "base_uri": "https://localhost:8080/"
        },
        "id": "fX_yOcv7j_e5",
        "outputId": "13f589e3-7840-405d-c36b-cef7022b19bb"
      },
      "execution_count": null,
      "outputs": [
        {
          "output_type": "stream",
          "name": "stdout",
          "text": [
            "logistic \n",
            "               precision    recall  f1-score   support\n",
            "\n",
            "           0      0.936     0.974     0.954       763\n",
            "           1      0.973     0.935     0.954       784\n",
            "\n",
            "    accuracy                          0.954      1547\n",
            "   macro avg      0.955     0.954     0.954      1547\n",
            "weighted avg      0.955     0.954     0.954      1547\n",
            "\n"
          ]
        }
      ]
    },
    {
      "cell_type": "code",
      "source": [
        "Y_logist = model.decision_function(test_tfidf)\n",
        "fpr, tpr, thresholds= roc_curve(y_test, Y_logist)\n",
        "plt.plot(fpr, tpr)\n",
        "plt.title(\"ROC of Logistic Regression\")\n",
        "plt.ylabel('True Positive Rate')\n",
        "plt.xlabel('False Positive Rate')\n",
        "plt.show()\n",
        "auc = roc_auc_score(y_test, Y_logist)\n",
        "print('Amount of test:', len(y_test))\n",
        "print('AUC: %.3f' % auc)"
      ],
      "metadata": {
        "colab": {
          "base_uri": "https://localhost:8080/",
          "height": 330
        },
        "id": "m3ewxUJgC8NH",
        "outputId": "1dd04d05-9013-49cb-fed9-397dff7b78fe"
      },
      "execution_count": null,
      "outputs": [
        {
          "output_type": "display_data",
          "data": {
            "text/plain": [
              "<Figure size 432x288 with 1 Axes>"
            ],
            "image/png": "[encoded data removed]"
          },
          "metadata": {
            "needs_background": "light"
          }
        },
        {
          "output_type": "stream",
          "name": "stdout",
          "text": [
            "Amount of test: 1547\n",
            "AUC: 0.990\n"
          ]
        }
      ]
    },
    {
      "cell_type": "markdown",
      "source": [
        "### 5-fold cross-validation "
      ],
      "metadata": {
        "id": "qbkgAcP_0Kdz"
      }
    },
    {
      "cell_type": "code",
      "source": [
        "# TF-IDF\n",
        "tfidf = TfidfVectorizer(\n",
        "    ngram_range=(1,2),       # Use unigram and bigram\n",
        "    tokenizer=tokenizer, # Use `word_tokenize` method from pythainlp for tokenizer\n",
        "    min_df=2,                # The word found less than three times in dataset is ignored\n",
        "    max_df=0.9,              # The word found more than 90% of entries is ignore\n",
        "    use_idf=True,\n",
        "    smooth_idf=True, \n",
        "    sublinear_tf=True\n",
        ")\n",
        "# Logistic regresstion\n",
        "model = LogisticRegression(C=1, max_iter=300, random_state=42)\n",
        "X_count = tfidf.fit_transform(X)\n",
        "cross_validation_roc(model, X_count, y, _cv=5)\n",
        "cross_validation(model, X_count, y, _cv=5)"
      ],
      "metadata": {
        "colab": {
          "base_uri": "https://localhost:8080/",
          "height": 746
        },
        "id": "wB-lLfMV0gD2",
        "outputId": "549ed572-e1e6-4576-9c42-292179ab685d"
      },
      "execution_count": null,
      "outputs": [
        {
          "output_type": "display_data",
          "data": {
            "text/plain": [
              "<Figure size 432x288 with 1 Axes>"
            ],
            "image/png": "[encoded data removed]"
          },
          "metadata": {
            "needs_background": "light"
          }
        },
        {
          "output_type": "stream",
          "name": "stdout",
          "text": [
            "Amount of test: 7731\n",
            "AUC: 0.983\n"
          ]
        },
        {
          "output_type": "execute_result",
          "data": {
            "text/plain": [
              "{'Training Accuracy scores': array([0.97962484, 0.98059822, 0.98124495, 0.97833468, 0.96701698]),\n",
              " 'Mean Training Accuracy': 97.73639328969536,\n",
              " 'Training Precision scores': array([0.99527984, 0.99696254, 0.99663186, 0.99593909, 0.99515403]),\n",
              " 'Mean Training Precision': 0.9959934715091551,\n",
              " 'Training Recall scores': array([0.96344648, 0.96378467, 0.96541599, 0.96019576, 0.93800979]),\n",
              " 'Mean Training Recall': 0.958170534843406,\n",
              " 'Training F1 scores': array([0.97910448, 0.9800929 , 0.9807756 , 0.97774086, 0.96573732]),\n",
              " 'Mean Training F1 Score': 0.9766902331109779,\n",
              " 'Validation Accuracy scores': array([0.96121526, 0.95278137, 0.94566624, 0.94566624, 0.78654592]),\n",
              " 'Mean Validation Accuracy': 91.83750044947823,\n",
              " 'Validation Precision scores': array([0.98491084, 0.98461538, 0.99277457, 0.98853868, 0.98017621]),\n",
              " 'Mean Validation Precision': 0.9862031362508461,\n",
              " 'Validation Recall scores': array([0.93611473, 0.91906005, 0.89686684, 0.90078329, 0.58093995]),\n",
              " 'Mean Validation Recall': 0.846752972654641,\n",
              " 'Validation F1 scores': array([0.95989305, 0.95070898, 0.94238683, 0.94262295, 0.7295082 ]),\n",
              " 'Mean Validation F1 Score': 0.9050240014727364}"
            ]
          },
          "metadata": {},
          "execution_count": 264
        }
      ]
    },
    {
      "cell_type": "code",
      "source": [
        "\n",
        "cross_validation(model, count_vec.fit_transform(X), y, _cv=5)"
      ],
      "metadata": {
        "id": "DzZa-mP7ZHjg"
      },
      "execution_count": null,
      "outputs": []
    },
    {
      "cell_type": "markdown",
      "source": [
        "## Model 3: NB-SVM"
      ],
      "metadata": {
        "id": "527OWRmNmAaJ"
      }
    },
    {
      "cell_type": "code",
      "source": [
        "from sklearn import svm\n",
        "import numpy as np"
      ],
      "metadata": {
        "id": "57RbFj6al_aO"
      },
      "execution_count": null,
      "outputs": []
    },
    {
      "cell_type": "code",
      "source": [
        "def pr(y_i, y, train_count):\n",
        "  \"\"\"Calculate probability of class y_i\"\"\"\n",
        "  alpha = 1\n",
        "  p = train_count[y==y_i].sum(0)\n",
        "  return (p + alpha) / (p + alpha).sum()\n",
        "\n",
        "def get_mdl_nbsvm(y, train_count):\n",
        "    \"\"\"Train model for each label\"\"\"\n",
        "    r = np.log(pr(1, y, train_count) / pr(0, y, train_count)) #log-count ratio\n",
        "    x_nb = train_count.multiply(r) #tf * r\n",
        "    m = svm.SVC(gamma='scale', probability=True)\n",
        "    return m.fit(x_nb, y), r\n",
        "    \n",
        "def one_hot(labels, unique_labels):\n",
        "  \"\"\"Create dummy code from label\"\"\"\n",
        "  output = []\n",
        "  for label in unique_labels:\n",
        "    np_train_labels = np.array(labels)\n",
        "    output.append((np_train_labels == label).astype(int))\n",
        "  output = np.array(output)\n",
        "  return output"
      ],
      "metadata": {
        "id": "erGZDK3tmFwd"
      },
      "execution_count": null,
      "outputs": []
    },
    {
      "cell_type": "code",
      "source": [
        "count_vec = CountVectorizer(\n",
        "    ngram_range=(1,2),       # Use unigram and bigram\n",
        "    tokenizer=word_tokenize, # Use `word_tokenize` method from pythainlp for tokenizer\n",
        "    min_df=3,                # The word found less than three times in dataset is ignored\n",
        "    max_df=0.9,              # The word found more than 90% of entries is ignore\n",
        ")\n",
        "\n",
        "train_count = count_vec.fit_transform(X_train)\n",
        "test_count = count_vec.transform(X_test)"
      ],
      "metadata": {
        "id": "Vuc9ABTQd5VT"
      },
      "execution_count": null,
      "outputs": []
    },
    {
      "cell_type": "code",
      "source": [
        "unique_labels = set(y_test)\n",
        "index_to_label = [label for label in unique_labels]\n",
        "label_to_index = {label:i for i, label in enumerate(unique_labels)}\n",
        "\n",
        "onehot_train_labels = one_hot(y_train, unique_labels)\n",
        "onehot_test_labels = one_hot(y_test, unique_labels)"
      ],
      "metadata": {
        "id": "0sqUBmw7jJ11"
      },
      "execution_count": null,
      "outputs": []
    },
    {
      "cell_type": "code",
      "source": [
        "# Init zero array (number of entries X number of unique labels])\n",
        "preds = np.zeros((len(X_test), len(unique_labels)))\n",
        "# models and log ratios for each label\n",
        "models = []\n",
        "ratios = []\n",
        "# Loop each label to train the model separately and predict each label\n",
        "for i, label in enumerate(unique_labels):\n",
        "    print('fit', label)\n",
        "    # Train model\n",
        "    m, r = get_mdl_nbsvm(onehot_train_labels[i], train_count)\n",
        "    # Store model and log ratio for each label\n",
        "    models.append(m)\n",
        "    ratios.append(r)\n",
        "    # Multiply calculated log ratio to the feature\n",
        "    normalized_feature = test_count.multiply(r)\n",
        "    # Predict and get the prob\n",
        "    preds[:,i] = m.predict_proba(normalized_feature)[:,1]"
      ],
      "metadata": {
        "colab": {
          "base_uri": "https://localhost:8080/"
        },
        "id": "yBgZ57cw5drn",
        "outputId": "44663883-5290-42ed-f2e9-46cece7fd58a"
      },
      "execution_count": null,
      "outputs": [
        {
          "output_type": "stream",
          "name": "stdout",
          "text": [
            "fit 0\n",
            "fit 1\n"
          ]
        }
      ]
    },
    {
      "cell_type": "code",
      "source": [
        "preds"
      ],
      "metadata": {
        "colab": {
          "base_uri": "https://localhost:8080/"
        },
        "id": "qJqru4pY9wjh",
        "outputId": "1d305719-60d8-48a9-8978-1af9caba5bac"
      },
      "execution_count": null,
      "outputs": [
        {
          "output_type": "execute_result",
          "data": {
            "text/plain": [
              "array([[0.92144416, 0.0757264 ],\n",
              "       [0.72399522, 0.27256209],\n",
              "       [0.44485116, 0.55597482],\n",
              "       [0.87643067, 0.12016776],\n",
              "       [0.95909937, 0.04017981],\n",
              "       [0.7235714 , 0.27304842],\n",
              "       [0.69256899, 0.30428538]])"
            ]
          },
          "metadata": {},
          "execution_count": 74
        }
      ]
    },
    {
      "cell_type": "code",
      "source": [
        "# Get the label that have the best score on prediction\n",
        "test_predict_indices = np.argmax(preds, axis=1)\n",
        "test_predict = [ index_to_label[pred_ind] for pred_ind in test_predict_indices]"
      ],
      "metadata": {
        "id": "SQFZqzSh8nKv"
      },
      "execution_count": null,
      "outputs": []
    },
    {
      "cell_type": "code",
      "source": [
        "print(classification_report(y_test, test_predict, digits=3))"
      ],
      "metadata": {
        "id": "VlCzDemCbRCj",
        "colab": {
          "base_uri": "https://localhost:8080/"
        },
        "outputId": "b6a7d84c-25a7-4475-d78f-4baa8f5cbed7"
      },
      "execution_count": null,
      "outputs": [
        {
          "output_type": "stream",
          "name": "stdout",
          "text": [
            "              precision    recall  f1-score   support\n",
            "\n",
            "           0      0.936     0.993     0.964       763\n",
            "           1      0.993     0.934     0.963       784\n",
            "\n",
            "    accuracy                          0.963      1547\n",
            "   macro avg      0.965     0.964     0.963      1547\n",
            "weighted avg      0.965     0.963     0.963      1547\n",
            "\n"
          ]
        }
      ]
    },
    {
      "cell_type": "code",
      "source": [
        "Y_mnb_score = preds\n",
        "fpr_mnb, tpr_mnb, thresholds_mnb = roc_curve(y_test, Y_mnb_score[:, 1])\n",
        "plt.plot(fpr_mnb, tpr_mnb)\n",
        "plt.title(\"ROC of MultiNB\")\n",
        "plt.ylabel('True Positive Rate')\n",
        "plt.xlabel('False Positive Rate')\n",
        "plt.show()\n",
        "auc = roc_auc_score(y_test, Y_mnb_score[:, 1])\n",
        "print('AUC: %.3f' % auc)"
      ],
      "metadata": {
        "colab": {
          "base_uri": "https://localhost:8080/",
          "height": 312
        },
        "id": "X9FieVS9-FVn",
        "outputId": "d096de8e-709b-41dd-928a-f93c1ca8cdb8"
      },
      "execution_count": null,
      "outputs": [
        {
          "output_type": "display_data",
          "data": {
            "text/plain": [
              "<Figure size 432x288 with 1 Axes>"
            ],
            "image/png": "[encoded data removed]"
          },
          "metadata": {
            "needs_background": "light"
          }
        },
        {
          "output_type": "stream",
          "name": "stdout",
          "text": [
            "AUC: 0.986\n"
          ]
        }
      ]
    },
    {
      "cell_type": "markdown",
      "source": [
        "### 5-fold cross-validation"
      ],
      "metadata": {
        "id": "4iVZc5Pk-Ur6"
      }
    },
    {
      "cell_type": "code",
      "source": [
        "\n",
        "from sklearn.model_selection import StratifiedKFold\n",
        "from sklearn.metrics import f1_score\n",
        "from sklearn.base import clone\n",
        "from sklearn import svm\n",
        "import numpy as np\n",
        "\n",
        "def cross_validation_roc_nb_svm(_x, _y, _cv=5) :\n",
        "  kfold = StratifiedKFold(n_splits=_cv).split(_x,_y)\n",
        "  unique_labels = set(_y)\n",
        "  index_to_label = [label for label in unique_labels]\n",
        "  label_to_index = {label:i for i, label in enumerate(unique_labels)}\n",
        "\n",
        "  score = []\n",
        "  y_test_all = []\n",
        "  accuracy_vals = []\n",
        "  f1_s = []\n",
        "  for k, (train,test) in enumerate(kfold):\n",
        "    count_vec = CountVectorizer(\n",
        "      ngram_range=(1,2),       # Use unigram and bigram\n",
        "      tokenizer=word_tokenize, # Use `word_tokenize` method from pythainlp for tokenizer\n",
        "      min_df=3,                # The word found less than three times in dataset is ignored\n",
        "      max_df=0.9,              # The word found more than 90% of entries is ignore\n",
        "    )\n",
        "\n",
        "    train_count = count_vec.fit_transform(_x[train])\n",
        "    test_count = count_vec.transform(_x[test])\n",
        "\n",
        "    onehot_train_labels = one_hot(_y[train], unique_labels)\n",
        "    onehot_test_labels = one_hot(_y[test], unique_labels)\n",
        "    # print(\"this\", len(test))\n",
        "    # Init zero array (number of entries X number of unique labels])\n",
        "    preds = np.zeros((len(test), len(unique_labels)))\n",
        "    # models and log ratios for each label\n",
        "    \n",
        "    models = []\n",
        "    ratios = []\n",
        "    \n",
        "    # Loop each label to train the model separately and predict each label\n",
        "    for i, label in enumerate(unique_labels):\n",
        "        # print('fit', label)\n",
        "        # Train model\n",
        "        m, r = get_mdl_nbsvm(onehot_train_labels[i], train_count)\n",
        "        # Store model and log ratio for each label\n",
        "        models.append(m)\n",
        "        ratios.append(r)\n",
        "        # Multiply calculated log ratio to the feature\n",
        "        normalized_feature = test_count.multiply(r)\n",
        "        # Predict and get the prob\n",
        "        preds[:,i] = m.predict_proba(normalized_feature)[:,1]\n",
        "    predicted = (preds[:,1] >= 0.5).astype(int)\n",
        "    acc = sum(_y[test] == predicted)/len(test)\n",
        "\n",
        "    accuracy_vals.append(acc)\n",
        "    f1_s.append(f1_score(_y[test],predicted))\n",
        "    y_test_all.extend(_y[test])\n",
        "    score.extend(preds[:,1])\n",
        "\n",
        "  fpr_mnb, tpr_mnb, thresholds_mnb = roc_curve(y_test_all, score)\n",
        "  plt.plot(fpr_mnb, tpr_mnb)\n",
        "  plt.title(\"ROC of NB-SVM\")\n",
        "  plt.ylabel('True Positive Rate')\n",
        "  plt.xlabel('False Positive Rate')\n",
        "  plt.show()\n",
        "  auc = roc_auc_score(y_test_all, score)\n",
        "  accuracy_vals = np.array(accuracy_vals)\n",
        "  f1_s = np.array(f1_s)\n",
        "  print('Amount of test:', len(y_test_all))\n",
        "  print('AUC: %.3f' % auc)\n",
        "  print('acc mean: ', accuracy_vals.mean())\n",
        "  print('f1_s mean ', f1_s.mean())\n",
        "  # return fpr_mnb, tpr_mnb, thresholds_mnb\n",
        "# cross_validation_roc(model_nb, X_count, y, _cv=5)"
      ],
      "metadata": {
        "id": "qFS9cOMN-Z-b"
      },
      "execution_count": null,
      "outputs": []
    },
    {
      "cell_type": "code",
      "source": [
        "count_vec = CountVectorizer(\n",
        "    ngram_range=(1,2),       # Use unigram and bigram\n",
        "    tokenizer=word_tokenize, # Use `word_tokenize` method from pythainlp for tokenizer\n",
        "    min_df=3,                # The word found less than three times in dataset is ignored\n",
        "    max_df=0.9,              # The word found more than 90% of entries is ignore\n",
        ")\n",
        "\n",
        "train_count = count_vec.fit_transform(X)\n",
        "cross_validation_roc_nb_svm(X, y, _cv=5)\n"
      ],
      "metadata": {
        "colab": {
          "base_uri": "https://localhost:8080/",
          "height": 364
        },
        "id": "3plYiLUs-pij",
        "outputId": "2b27f5c7-2815-4361-e19d-57533ec284a5"
      },
      "execution_count": null,
      "outputs": [
        {
          "output_type": "display_data",
          "data": {
            "text/plain": [
              "<Figure size 432x288 with 1 Axes>"
            ],
            "image/png": "[encoded data removed]"
          },
          "metadata": {
            "needs_background": "light"
          }
        },
        {
          "output_type": "stream",
          "name": "stdout",
          "text": [
            "Amount of test: 7731\n",
            "AUC: 0.985\n",
            "acc mean:  0.9633934895482723\n",
            "f1_s mean  0.9619799592215628\n"
          ]
        }
      ]
    },
    {
      "cell_type": "markdown",
      "source": [
        "## Model 4: bert"
      ],
      "metadata": {
        "id": "PSXQ1juaLJ-B"
      }
    },
    {
      "cell_type": "code",
      "source": [
        "!pip install transformers\n",
        "!pip install datasets"
      ],
      "metadata": {
        "colab": {
          "base_uri": "https://localhost:8080/"
        },
        "id": "mLeC8SimvJvF",
        "outputId": "bf78770a-9f74-4195-adc9-6ac44124c37c"
      },
      "execution_count": null,
      "outputs": [
        {
          "output_type": "stream",
          "name": "stdout",
          "text": [
            "Looking in indexes: https://pypi.org/simple, https://us-python.pkg.dev/colab-wheels/public/simple/\n",
            "Collecting transformers\n",
            "  Downloading transformers-4.25.1-py3-none-any.whl (5.8 MB)\n",
            "\u001b[K     |████████████████████████████████| 5.8 MB 31.9 MB/s \n",
            "\u001b[?25hCollecting huggingface-hub<1.0,>=0.10.0\n",
            "  Downloading huggingface_hub-0.11.1-py3-none-any.whl (182 kB)\n",
            "\u001b[K     |████████████████████████████████| 182 kB 75.0 MB/s \n",
            "\u001b[?25hRequirement already satisfied: regex!=2019.12.17 in /usr/local/lib/python3.8/dist-packages (from transformers) (2022.6.2)\n",
            "Requirement already satisfied: filelock in /usr/local/lib/python3.8/dist-packages (from transformers) (3.8.0)\n",
            "Requirement already satisfied: packaging>=20.0 in /usr/local/lib/python3.8/dist-packages (from transformers) (21.3)\n",
            "Requirement already satisfied: numpy>=1.17 in /usr/local/lib/python3.8/dist-packages (from transformers) (1.21.6)\n",
            "Requirement already satisfied: requests in /usr/local/lib/python3.8/dist-packages (from transformers) (2.23.0)\n",
            "Collecting tokenizers!=0.11.3,<0.14,>=0.11.1\n",
            "  Downloading tokenizers-0.13.2-cp38-cp38-manylinux_2_17_x86_64.manylinux2014_x86_64.whl (7.6 MB)\n",
            "\u001b[K     |████████████████████████████████| 7.6 MB 62.5 MB/s \n",
            "\u001b[?25hRequirement already satisfied: tqdm>=4.27 in /usr/local/lib/python3.8/dist-packages (from transformers) (4.64.1)\n",
            "Requirement already satisfied: pyyaml>=5.1 in /usr/local/lib/python3.8/dist-packages (from transformers) (6.0)\n",
            "Requirement already satisfied: typing-extensions>=3.7.4.3 in /usr/local/lib/python3.8/dist-packages (from huggingface-hub<1.0,>=0.10.0->transformers) (4.4.0)\n",
            "Requirement already satisfied: pyparsing!=3.0.5,>=2.0.2 in /usr/local/lib/python3.8/dist-packages (from packaging>=20.0->transformers) (3.0.9)\n",
            "Requirement already satisfied: idna<3,>=2.5 in /usr/local/lib/python3.8/dist-packages (from requests->transformers) (2.10)\n",
            "Requirement already satisfied: chardet<4,>=3.0.2 in /usr/local/lib/python3.8/dist-packages (from requests->transformers) (3.0.4)\n",
            "Requirement already satisfied: urllib3!=1.25.0,!=1.25.1,<1.26,>=1.21.1 in /usr/local/lib/python3.8/dist-packages (from requests->transformers) (1.24.3)\n",
            "Requirement already satisfied: certifi>=2017.4.17 in /usr/local/lib/python3.8/dist-packages (from requests->transformers) (2022.9.24)\n",
            "Installing collected packages: tokenizers, huggingface-hub, transformers\n",
            "Successfully installed huggingface-hub-0.11.1 tokenizers-0.13.2 transformers-4.25.1\n",
            "Looking in indexes: https://pypi.org/simple, https://us-python.pkg.dev/colab-wheels/public/simple/\n",
            "Collecting datasets\n",
            "  Downloading datasets-2.7.1-py3-none-any.whl (451 kB)\n",
            "\u001b[K     |████████████████████████████████| 451 kB 28.7 MB/s \n",
            "\u001b[?25hRequirement already satisfied: requests>=2.19.0 in /usr/local/lib/python3.8/dist-packages (from datasets) (2.23.0)\n",
            "Requirement already satisfied: dill<0.3.7 in /usr/local/lib/python3.8/dist-packages (from datasets) (0.3.6)\n",
            "Requirement already satisfied: pyyaml>=5.1 in /usr/local/lib/python3.8/dist-packages (from datasets) (6.0)\n",
            "Requirement already satisfied: tqdm>=4.62.1 in /usr/local/lib/python3.8/dist-packages (from datasets) (4.64.1)\n",
            "Requirement already satisfied: fsspec[http]>=2021.11.1 in /usr/local/lib/python3.8/dist-packages (from datasets) (2022.11.0)\n",
            "Requirement already satisfied: aiohttp in /usr/local/lib/python3.8/dist-packages (from datasets) (3.8.3)\n",
            "Collecting multiprocess\n",
            "  Downloading multiprocess-0.70.14-py38-none-any.whl (132 kB)\n",
            "\u001b[K     |████████████████████████████████| 132 kB 70.1 MB/s \n",
            "\u001b[?25hCollecting xxhash\n",
            "  Downloading xxhash-3.1.0-cp38-cp38-manylinux_2_17_x86_64.manylinux2014_x86_64.whl (212 kB)\n",
            "\u001b[K     |████████████████████████████████| 212 kB 74.0 MB/s \n",
            "\u001b[?25hRequirement already satisfied: pandas in /usr/local/lib/python3.8/dist-packages (from datasets) (1.3.5)\n",
            "Collecting responses<0.19\n",
            "  Downloading responses-0.18.0-py3-none-any.whl (38 kB)\n",
            "Requirement already satisfied: pyarrow>=6.0.0 in /usr/local/lib/python3.8/dist-packages (from datasets) (9.0.0)\n",
            "Requirement already satisfied: huggingface-hub<1.0.0,>=0.2.0 in /usr/local/lib/python3.8/dist-packages (from datasets) (0.11.1)\n",
            "Requirement already satisfied: packaging in /usr/local/lib/python3.8/dist-packages (from datasets) (21.3)\n",
            "Requirement already satisfied: numpy>=1.17 in /usr/local/lib/python3.8/dist-packages (from datasets) (1.21.6)\n",
            "Requirement already satisfied: charset-normalizer<3.0,>=2.0 in /usr/local/lib/python3.8/dist-packages (from aiohttp->datasets) (2.1.1)\n",
            "Requirement already satisfied: frozenlist>=1.1.1 in /usr/local/lib/python3.8/dist-packages (from aiohttp->datasets) (1.3.3)\n",
            "Requirement already satisfied: attrs>=17.3.0 in /usr/local/lib/python3.8/dist-packages (from aiohttp->datasets) (22.1.0)\n",
            "Requirement already satisfied: async-timeout<5.0,>=4.0.0a3 in /usr/local/lib/python3.8/dist-packages (from aiohttp->datasets) (4.0.2)\n",
            "Requirement already satisfied: aiosignal>=1.1.2 in /usr/local/lib/python3.8/dist-packages (from aiohttp->datasets) (1.3.1)\n",
            "Requirement already satisfied: multidict<7.0,>=4.5 in /usr/local/lib/python3.8/dist-packages (from aiohttp->datasets) (6.0.3)\n",
            "Requirement already satisfied: yarl<2.0,>=1.0 in /usr/local/lib/python3.8/dist-packages (from aiohttp->datasets) (1.8.2)\n",
            "Requirement already satisfied: filelock in /usr/local/lib/python3.8/dist-packages (from huggingface-hub<1.0.0,>=0.2.0->datasets) (3.8.0)\n",
            "Requirement already satisfied: typing-extensions>=3.7.4.3 in /usr/local/lib/python3.8/dist-packages (from huggingface-hub<1.0.0,>=0.2.0->datasets) (4.4.0)\n",
            "Requirement already satisfied: pyparsing!=3.0.5,>=2.0.2 in /usr/local/lib/python3.8/dist-packages (from packaging->datasets) (3.0.9)\n",
            "Requirement already satisfied: idna<3,>=2.5 in /usr/local/lib/python3.8/dist-packages (from requests>=2.19.0->datasets) (2.10)\n",
            "Requirement already satisfied: chardet<4,>=3.0.2 in /usr/local/lib/python3.8/dist-packages (from requests>=2.19.0->datasets) (3.0.4)\n",
            "Requirement already satisfied: urllib3!=1.25.0,!=1.25.1,<1.26,>=1.21.1 in /usr/local/lib/python3.8/dist-packages (from requests>=2.19.0->datasets) (1.24.3)\n",
            "Requirement already satisfied: certifi>=2017.4.17 in /usr/local/lib/python3.8/dist-packages (from requests>=2.19.0->datasets) (2022.9.24)\n",
            "Collecting urllib3!=1.25.0,!=1.25.1,<1.26,>=1.21.1\n",
            "  Downloading urllib3-1.25.11-py2.py3-none-any.whl (127 kB)\n",
            "\u001b[K     |████████████████████████████████| 127 kB 77.6 MB/s \n",
            "\u001b[?25hRequirement already satisfied: python-dateutil>=2.7.3 in /usr/local/lib/python3.8/dist-packages (from pandas->datasets) (2.8.2)\n",
            "Requirement already satisfied: pytz>=2017.3 in /usr/local/lib/python3.8/dist-packages (from pandas->datasets) (2022.6)\n",
            "Requirement already satisfied: six>=1.5 in /usr/local/lib/python3.8/dist-packages (from python-dateutil>=2.7.3->pandas->datasets) (1.15.0)\n",
            "Installing collected packages: urllib3, xxhash, responses, multiprocess, datasets\n",
            "  Attempting uninstall: urllib3\n",
            "    Found existing installation: urllib3 1.24.3\n",
            "    Uninstalling urllib3-1.24.3:\n",
            "      Successfully uninstalled urllib3-1.24.3\n",
            "Successfully installed datasets-2.7.1 multiprocess-0.70.14 responses-0.18.0 urllib3-1.25.11 xxhash-3.1.0\n"
          ]
        }
      ]
    },
    {
      "cell_type": "code",
      "source": [
        "import tensorflow as tf\n",
        "import numpy as np\n",
        "import pandas as pd\n",
        "\n",
        "from datasets import Dataset\n",
        "from datasets import load_metric\n",
        "\n",
        "from transformers import AutoTokenizer, DataCollatorWithPadding\n",
        "from transformers import TrainingArguments, AutoModelForSequenceClassification, Trainer\n",
        "from transformers import AutoTokenizer, TFAutoModelForSequenceClassification"
      ],
      "metadata": {
        "id": "d2WZaGW3LJfR"
      },
      "execution_count": null,
      "outputs": []
    },
    {
      "cell_type": "code",
      "source": [
        "train_d = pd.DataFrame({\"text\":X_train, \"lebel\":y_train})\n",
        "test_d = pd.DataFrame({\"text\":X_test, \"lebel\":y_test})\n",
        "train = Dataset.from_pandas(train_d, preserve_index=False)\n",
        "validation = Dataset.from_pandas(test_d, preserve_index=False)\n",
        "\n",
        "print(train)\n",
        "print(validation)"
      ],
      "metadata": {
        "colab": {
          "base_uri": "https://localhost:8080/"
        },
        "id": "8McXDp0Ywl5C",
        "outputId": "7b1a11fd-b0d3-451b-a23e-08afd27cbbb9"
      },
      "execution_count": null,
      "outputs": [
        {
          "output_type": "stream",
          "name": "stdout",
          "text": [
            "Dataset({\n",
            "    features: ['text', 'lebel'],\n",
            "    num_rows: 27\n",
            "})\n",
            "Dataset({\n",
            "    features: ['text', 'lebel'],\n",
            "    num_rows: 7\n",
            "})\n"
          ]
        }
      ]
    },
    {
      "cell_type": "code",
      "source": [
        "tokenizer = AutoTokenizer.from_pretrained('roberta-base')\n",
        "\n",
        "def tokenize_function(example):\n",
        "    return tokenizer(example[\"text\"], padding=\"max_length\", truncation=True)\n",
        "\n",
        "tokenized_train_dataset = train.map(tokenize_function, batched=True)\n",
        "tokenized_test_dataset = validation.map(tokenize_function, batched=True)\n",
        "data_collator = DataCollatorWithPadding(tokenizer=tokenizer)"
      ],
      "metadata": {
        "colab": {
          "base_uri": "https://localhost:8080/",
          "height": 81,
          "referenced_widgets": [
            "e0954a6d3859443bad00434f99cb8e66",
            "45b9072a6e484235ac3703a664d55fa6",
            "e55f9e5ee84d40c9bc484ee18a1d3210",
            "ae64a9f266e44736999697fadf685745",
            "3d022df7ed0d4cd8ab0faa6be1b63e6a",
            "d0b0b46f81f0447a843288693623a78f",
            "450b93113a0c4dfeaa2bedc9a8f4e4c4",
            "c2f8105a1e01403683dca780aaa80132",
            "9a5e295cfb7f4fa594177222ec1bf505",
            "37de8af6e69d4c9ca63610fd0375d4e4",
            "a51241b63ae5450b8f879024b9ede090",
            "eaba9146fe8242b58297e1cf25c5568e",
            "1406d3ab21914443b0944299592c8dc9",
            "24031341b2cf4d7a8d4fd89b97986467",
            "3c01970fde7d4bdb88564e1a224b5ab3",
            "bf790f999bd24a2fbf2f64867c059612",
            "1d2373f645c54896b76f71c94e0ebe0b",
            "aca05f5bb9f84fdb88a95b8e2f286bd2",
            "cf1f5a3dcd29421bb5e4102d11f5e1fd",
            "6f35f59527bf4e0cabebe3e564ff9bf8",
            "634bc38e9e7241aa976f777ae14ab417",
            "e0cd696209a3430f8206c640d30715aa"
          ]
        },
        "id": "lpTEr08ev4fb",
        "outputId": "f9a28f9e-00d4-453e-a251-2a147e572220"
      },
      "execution_count": null,
      "outputs": [
        {
          "output_type": "display_data",
          "data": {
            "text/plain": [
              "  0%|          | 0/1 [00:00<?, ?ba/s]"
            ],
            "application/vnd.jupyter.widget-view+json": {
              "version_major": 2,
              "version_minor": 0,
              "model_id": "e0954a6d3859443bad00434f99cb8e66"
            }
          },
          "metadata": {}
        },
        {
          "output_type": "display_data",
          "data": {
            "text/plain": [
              "  0%|          | 0/1 [00:00<?, ?ba/s]"
            ],
            "application/vnd.jupyter.widget-view+json": {
              "version_major": 2,
              "version_minor": 0,
              "model_id": "eaba9146fe8242b58297e1cf25c5568e"
            }
          },
          "metadata": {}
        }
      ]
    },
    {
      "cell_type": "code",
      "source": [
        "import os\n",
        "os.environ[\"WANDB_DISABLED\"] = \"true\""
      ],
      "metadata": {
        "id": "jpp_P_ye04Fl"
      },
      "execution_count": null,
      "outputs": []
    },
    {
      "cell_type": "code",
      "source": [
        "training_args = TrainingArguments(\"test-trainer\", evaluation_strategy=\"epoch\")   # default arguments for fine-tuning\n",
        "model = AutoModelForSequenceClassification.from_pretrained('roberta-base', num_labels=2)  # overwriting MLM roberta-base for sequence binary classification\n",
        "\n",
        "def compute_metrics(eval_preds):   # compute accuracy and f1-score\n",
        "    metric = load_metric(\"glue\", \"mrpc\")\n",
        "    logits, labels = eval_preds\n",
        "    predictions = np.argmax(logits, axis=-1)\n",
        "    return metric.compute(predictions=predictions, references=labels)\n",
        "\n",
        "trainer = Trainer(   # specifying trainer class\n",
        "    model,\n",
        "    training_args,\n",
        "    train_dataset=tokenized_train_dataset,\n",
        "    eval_dataset=tokenized_test_dataset,\n",
        "    data_collator=data_collator,\n",
        "    tokenizer=tokenizer,\n",
        "    compute_metrics=compute_metrics,\n",
        ")\n",
        "\n",
        "trainer.train()  # starts fine-tuning"
      ],
      "metadata": {
        "colab": {
          "base_uri": "https://localhost:8080/"
        },
        "id": "lVIlbJsEwf2c",
        "outputId": "692e8d80-a5d4-4c76-d53d-3df7b3c58f19"
      },
      "execution_count": null,
      "outputs": [
        {
          "output_type": "stream",
          "name": "stderr",
          "text": [
            "PyTorch: setting up devices\n",
            "The default value for the training argument `--report_to` will change in v5 (from all installed integrations to none). In v5, you will need to use `--report_to all` to get the same behavior as now. You should start updating your code and make this info disappear :-).\n",
            "Using the `WANDB_DISABLED` environment variable is deprecated and will be removed in v5. Use the --report_to flag to control the integrations used for logging result (for instance --report_to none).\n",
            "loading configuration file config.json from cache at /root/.cache/huggingface/hub/models--roberta-base/snapshots/ff46155979338ff8063cdad90908b498ab91b181/config.json\n",
            "Model config RobertaConfig {\n",
            "  \"_name_or_path\": \"roberta-base\",\n",
            "  \"architectures\": [\n",
            "    \"RobertaForMaskedLM\"\n",
            "  ],\n",
            "  \"attention_probs_dropout_prob\": 0.1,\n",
            "  \"bos_token_id\": 0,\n",
            "  \"classifier_dropout\": null,\n",
            "  \"eos_token_id\": 2,\n",
            "  \"hidden_act\": \"gelu\",\n",
            "  \"hidden_dropout_prob\": 0.1,\n",
            "  \"hidden_size\": 768,\n",
            "  \"initializer_range\": 0.02,\n",
            "  \"intermediate_size\": 3072,\n",
            "  \"layer_norm_eps\": 1e-05,\n",
            "  \"max_position_embeddings\": 514,\n",
            "  \"model_type\": \"roberta\",\n",
            "  \"num_attention_heads\": 12,\n",
            "  \"num_hidden_layers\": 12,\n",
            "  \"pad_token_id\": 1,\n",
            "  \"position_embedding_type\": \"absolute\",\n",
            "  \"transformers_version\": \"4.25.1\",\n",
            "  \"type_vocab_size\": 1,\n",
            "  \"use_cache\": true,\n",
            "  \"vocab_size\": 50265\n",
            "}\n",
            "\n",
            "loading weights file pytorch_model.bin from cache at /root/.cache/huggingface/hub/models--roberta-base/snapshots/ff46155979338ff8063cdad90908b498ab91b181/pytorch_model.bin\n",
            "Some weights of the model checkpoint at roberta-base were not used when initializing RobertaForSequenceClassification: ['lm_head.dense.bias', 'roberta.pooler.dense.bias', 'lm_head.dense.weight', 'lm_head.bias', 'lm_head.layer_norm.bias', 'lm_head.layer_norm.weight', 'lm_head.decoder.weight', 'roberta.pooler.dense.weight']\n",
            "- This IS expected if you are initializing RobertaForSequenceClassification from the checkpoint of a model trained on another task or with another architecture (e.g. initializing a BertForSequenceClassification model from a BertForPreTraining model).\n",
            "- This IS NOT expected if you are initializing RobertaForSequenceClassification from the checkpoint of a model that you expect to be exactly identical (initializing a BertForSequenceClassification model from a BertForSequenceClassification model).\n",
            "Some weights of RobertaForSequenceClassification were not initialized from the model checkpoint at roberta-base and are newly initialized: ['classifier.out_proj.weight', 'classifier.dense.weight', 'classifier.dense.bias', 'classifier.out_proj.bias']\n",
            "You should probably TRAIN this model on a down-stream task to be able to use it for predictions and inference.\n",
            "/usr/local/lib/python3.8/dist-packages/transformers/optimization.py:306: FutureWarning: This implementation of AdamW is deprecated and will be removed in a future version. Use the PyTorch implementation torch.optim.AdamW instead, or set `no_deprecation_warning=True` to disable this warning\n",
            "  warnings.warn(\n",
            "***** Running training *****\n",
            "  Num examples = 27\n",
            "  Num Epochs = 3\n",
            "  Instantaneous batch size per device = 8\n",
            "  Total train batch size (w. parallel, distributed & accumulation) = 8\n",
            "  Gradient Accumulation steps = 1\n",
            "  Total optimization steps = 12\n",
            "  Number of trainable parameters = 124647170\n",
            "The following columns in the training set don't have a corresponding argument in `RobertaForSequenceClassification.forward` and have been ignored: text, lebel. If text, lebel are not expected by `RobertaForSequenceClassification.forward`,  you can safely ignore this message.\n"
          ]
        }
      ]
    }
  ]
}